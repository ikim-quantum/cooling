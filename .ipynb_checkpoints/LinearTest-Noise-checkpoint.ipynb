{
 "cells": [
  {
   "cell_type": "code",
   "execution_count": 1,
   "metadata": {
    "scrolled": true
   },
   "outputs": [],
   "source": [
    "%load_ext autoreload"
   ]
  },
  {
   "cell_type": "code",
   "execution_count": 2,
   "metadata": {},
   "outputs": [],
   "source": [
    "%autoreload 2"
   ]
  },
  {
   "cell_type": "code",
   "execution_count": 3,
   "metadata": {},
   "outputs": [],
   "source": [
    "import circuit_simulator as cs"
   ]
  },
  {
   "cell_type": "code",
   "execution_count": 4,
   "metadata": {},
   "outputs": [],
   "source": [
    "from tqdm.notebook import tqdm\n",
    "import matplotlib.pyplot as plt\n",
    "import numpy as np\n",
    "import tensornetwork as tn"
   ]
  },
  {
   "cell_type": "markdown",
   "metadata": {},
   "source": [
    "# April 10 update"
   ]
  },
  {
   "cell_type": "markdown",
   "metadata": {},
   "source": [
    "# Quick benchmark"
   ]
  },
  {
   "cell_type": "code",
   "execution_count": 5,
   "metadata": {},
   "outputs": [],
   "source": [
    "noise_level = 0.01"
   ]
  },
  {
   "cell_type": "code",
   "execution_count": null,
   "metadata": {},
   "outputs": [],
   "source": [
    "# Similar code to above, but with the new definitions for sampling"
   ]
  },
  {
   "cell_type": "code",
   "execution_count": null,
   "metadata": {},
   "outputs": [
    {
     "data": {
      "application/vnd.jupyter.widget-view+json": {
       "model_id": "b4a2f1ba79d9451ba93433ac1172f572",
       "version_major": 2,
       "version_minor": 0
      },
      "text/plain": [
       "HBox(children=(FloatProgress(value=0.0, max=2000.0), HTML(value='')))"
      ]
     },
     "metadata": {},
     "output_type": "display_data"
    }
   ],
   "source": [
    "ps = []\n",
    "for x in tqdm(range(2000)):\n",
    "    ps.append(cs.sample_all_qubits_faster(50, depolarizing_noise = noise_level))\n",
    "ps = np.array(ps)"
   ]
  },
  {
   "cell_type": "code",
   "execution_count": null,
   "metadata": {},
   "outputs": [],
   "source": [
    "# when things are not the same\n",
    "ps_nosame = []\n",
    "for x in tqdm(range(2000)):\n",
    "    ps_nosame.append(cs.sample_all_qubits_faster(50, all_same=False, depolarizing_noise = noise_level))\n",
    "ps_nosame = np.array(ps_nosame)"
   ]
  },
  {
   "cell_type": "code",
   "execution_count": null,
   "metadata": {},
   "outputs": [],
   "source": [
    "plt.hist(ps[:,0], bins = 100, range=(0,1))\n",
    "plt.title(f\"Qubit #{0}\")\n",
    "plt.ylabel(r\"Overlap with $|0\\rangle$\")\n",
    "plt.show()"
   ]
  },
  {
   "cell_type": "code",
   "execution_count": null,
   "metadata": {},
   "outputs": [],
   "source": [
    "plt.hist(ps_nosame[:,0], bins = 100, range=(0,1))\n",
    "plt.title(f\"Qubit #{0}\")\n",
    "plt.ylabel(r\"Overlap with $|0\\rangle$\")\n",
    "plt.show()"
   ]
  },
  {
   "cell_type": "code",
   "execution_count": null,
   "metadata": {},
   "outputs": [],
   "source": [
    "fig=plt.figure(figsize=(30, 30))\n",
    "t = 0\n",
    "for i in range(49):\n",
    "    ax=fig.add_subplot(7,7, i+1)\n",
    "    ax.hist(ps[:, i], bins = 30, range=(0,1))\n",
    "    ax.set_title(f\"Qubit #{i}\")\n",
    "    ax.set_ylabel(r\"Overlap with $|0\\rangle$\")\n",
    "fig.tight_layout()  # Improves appearance a bit.\n",
    "# plt.savefig('concurrences_bigger.png')\n",
    "plt.show()\n"
   ]
  },
  {
   "cell_type": "code",
   "execution_count": null,
   "metadata": {},
   "outputs": [],
   "source": [
    "fig=plt.figure(figsize=(30, 30))\n",
    "t = 0\n",
    "for i in range(49):\n",
    "    ax=fig.add_subplot(7,7, i+1)\n",
    "    ax.hist(ps_nosame[:, i], bins = 30, range=(0,1))\n",
    "    ax.set_title(f\"Qubit #{i}\")\n",
    "    ax.set_ylabel(r\"Overlap with $|0\\rangle$\")\n",
    "fig.tight_layout()  # Improves appearance a bit.\n",
    "# plt.savefig('concurrences_bigger.png')\n",
    "plt.show()\n"
   ]
  },
  {
   "cell_type": "code",
   "execution_count": null,
   "metadata": {},
   "outputs": [],
   "source": []
  },
  {
   "cell_type": "code",
   "execution_count": null,
   "metadata": {},
   "outputs": [],
   "source": [
    "#blue is mean, orange is median\n",
    "plt.plot(np.mean(ps,axis=0))\n",
    "plt.plot(np.median(ps,axis=0))\n",
    "plt.show()"
   ]
  },
  {
   "cell_type": "code",
   "execution_count": null,
   "metadata": {},
   "outputs": [],
   "source": [
    "plt.plot(np.mean(ps_nosame,axis=0))\n",
    "plt.plot(np.median(ps_nosame,axis=0))\n",
    "plt.show()"
   ]
  },
  {
   "cell_type": "code",
   "execution_count": null,
   "metadata": {
    "scrolled": false
   },
   "outputs": [],
   "source": [
    "plt.plot(np.log(1-np.median(ps, axis=0)))\n",
    "plt.show()"
   ]
  },
  {
   "cell_type": "code",
   "execution_count": null,
   "metadata": {},
   "outputs": [],
   "source": [
    "plt.plot(np.log(1-np.median(ps_nosame, axis=0)))\n",
    "plt.show()"
   ]
  },
  {
   "cell_type": "code",
   "execution_count": null,
   "metadata": {},
   "outputs": [],
   "source": [
    "# Fitting the exponential\n",
    "from sklearn.linear_model import LinearRegression "
   ]
  },
  {
   "cell_type": "code",
   "execution_count": null,
   "metadata": {},
   "outputs": [],
   "source": [
    "lr = LinearRegression()\n",
    "lr.fit(np.array([np.arange(50)]).T, np.log(1-np.median(ps, axis=0)))\n",
    "lr.coef_[0], lr.intercept_"
   ]
  },
  {
   "cell_type": "code",
   "execution_count": null,
   "metadata": {},
   "outputs": [],
   "source": [
    "#R2\n",
    "lr.score(np.array([np.arange(50)]).T, np.log(1-np.median(ps, axis=0)))"
   ]
  },
  {
   "cell_type": "code",
   "execution_count": null,
   "metadata": {},
   "outputs": [],
   "source": [
    "plt.plot(np.log(1-np.median(ps, axis=0)))\n",
    "plt.plot(np.arange(50)*lr.coef_[0] + lr.intercept_)"
   ]
  },
  {
   "cell_type": "code",
   "execution_count": null,
   "metadata": {},
   "outputs": [],
   "source": []
  },
  {
   "cell_type": "code",
   "execution_count": null,
   "metadata": {},
   "outputs": [],
   "source": []
  },
  {
   "cell_type": "code",
   "execution_count": null,
   "metadata": {},
   "outputs": [],
   "source": []
  },
  {
   "cell_type": "code",
   "execution_count": null,
   "metadata": {},
   "outputs": [],
   "source": [
    "lr = LinearRegression()\n",
    "lr.fit(np.array([np.arange(50)]).T, np.log(1-np.median(ps_nosame, axis=0)))\n",
    "lr.coef_[0], lr.intercept_"
   ]
  },
  {
   "cell_type": "code",
   "execution_count": null,
   "metadata": {},
   "outputs": [],
   "source": [
    "#R2\n",
    "lr.score(np.array([np.arange(50)]).T, np.log(1-np.median(ps_nosame, axis=0)))"
   ]
  },
  {
   "cell_type": "code",
   "execution_count": null,
   "metadata": {},
   "outputs": [],
   "source": [
    "plt.plot(np.log(1-np.median(ps_nosame, axis=0)))\n",
    "plt.plot(np.arange(50)*lr.coef_[0] + lr.intercept_)"
   ]
  },
  {
   "cell_type": "code",
   "execution_count": null,
   "metadata": {},
   "outputs": [],
   "source": []
  },
  {
   "cell_type": "code",
   "execution_count": null,
   "metadata": {},
   "outputs": [],
   "source": []
  }
 ],
 "metadata": {
  "kernelspec": {
   "display_name": "Python 3",
   "language": "python",
   "name": "python3"
  },
  "language_info": {
   "codemirror_mode": {
    "name": "ipython",
    "version": 3
   },
   "file_extension": ".py",
   "mimetype": "text/x-python",
   "name": "python",
   "nbconvert_exporter": "python",
   "pygments_lexer": "ipython3",
   "version": "3.7.6"
  }
 },
 "nbformat": 4,
 "nbformat_minor": 2
}
