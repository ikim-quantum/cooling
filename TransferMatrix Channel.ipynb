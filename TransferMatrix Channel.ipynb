{
 "cells": [
  {
   "cell_type": "code",
   "execution_count": 1,
   "metadata": {},
   "outputs": [],
   "source": [
    "%load_ext autoreload\n",
    "%autoreload 2"
   ]
  },
  {
   "cell_type": "code",
   "execution_count": 89,
   "metadata": {},
   "outputs": [],
   "source": [
    "from IPython.display import display\n",
    "from IPython.core.interactiveshell import InteractiveShell\n",
    "InteractiveShell.ast_node_interactivity = \"all\"\n"
   ]
  },
  {
   "cell_type": "code",
   "execution_count": 90,
   "metadata": {},
   "outputs": [],
   "source": [
    "from tqdm.notebook import tqdm\n",
    "import matplotlib.pyplot as plt\n",
    "import numpy as np\n",
    "import csim as cs"
   ]
  },
  {
   "cell_type": "code",
   "execution_count": 114,
   "metadata": {},
   "outputs": [],
   "source": [
    "from functools import partial"
   ]
  },
  {
   "cell_type": "code",
   "execution_count": 94,
   "metadata": {},
   "outputs": [],
   "source": [
    "import qutip"
   ]
  },
  {
   "cell_type": "code",
   "execution_count": 112,
   "metadata": {},
   "outputs": [],
   "source": [
    "u = cs.random_unitary_gate(2)\n",
    "m = cs.transfer_matrix(u)"
   ]
  },
  {
   "cell_type": "code",
   "execution_count": 169,
   "metadata": {},
   "outputs": [],
   "source": [
    "m_choi = cs.matrix_to_choi(m)"
   ]
  },
  {
   "cell_type": "code",
   "execution_count": 154,
   "metadata": {},
   "outputs": [
    {
     "data": {
      "text/latex": [
       "Quantum object: dims = [[2], [2]], shape = (2, 2), type = oper, isherm = False\\begin{equation*}\\left(\\begin{array}{*{11}c}(-0.299+0.300j) & (0.466+0.505j)\\\\(0.202+0.196j) & (0.302-0.231j)\\\\\\end{array}\\right)\\end{equation*}"
      ],
      "text/plain": [
       "Quantum object: dims = [[2], [2]], shape = (2, 2), type = oper, isherm = False\n",
       "Qobj data =\n",
       "[[-0.29925776+0.29986139j  0.4660761 +0.50450932j]\n",
       " [ 0.20165963+0.19567308j  0.30184178-0.23065292j]]"
      ]
     },
     "metadata": {},
     "output_type": "display_data"
    },
    {
     "data": {
      "text/latex": [
       "Quantum object: dims = [[2], [2]], shape = (2, 2), type = oper, isherm = False\\begin{equation*}\\left(\\begin{array}{*{11}c}(-0.299-0.300j) & (0.202-0.196j)\\\\(0.466-0.505j) & (0.302+0.231j)\\\\\\end{array}\\right)\\end{equation*}"
      ],
      "text/plain": [
       "Quantum object: dims = [[2], [2]], shape = (2, 2), type = oper, isherm = False\n",
       "Qobj data =\n",
       "[[-0.29925776-0.29986139j  0.20165963-0.19567308j]\n",
       " [ 0.4660761 -0.50450932j  0.30184178+0.23065292j]]"
      ]
     },
     "metadata": {},
     "output_type": "display_data"
    },
    {
     "data": {
      "text/latex": [
       "Quantum object: dims = [[2], [2]], shape = (2, 2), type = oper, isherm = True\\begin{equation*}\\left(\\begin{array}{*{11}c}0.707 & 1.072\\times10^{-16}\\\\-4.567\\times10^{-16} & 0.707\\\\\\end{array}\\right)\\end{equation*}"
      ],
      "text/plain": [
       "Quantum object: dims = [[2], [2]], shape = (2, 2), type = oper, isherm = True\n",
       "Qobj data =\n",
       "[[ 7.07106781e-01-3.62237036e-16j  1.07247595e-16+2.76767987e-17j]\n",
       " [-4.56667179e-16+1.21518444e-16j  7.07106781e-01+2.09136465e-17j]]"
      ]
     },
     "metadata": {},
     "output_type": "display_data"
    },
    {
     "data": {
      "text/latex": [
       "Quantum object: dims = [[2], [2]], shape = (2, 2), type = oper, isherm = True\\begin{equation*}\\left(\\begin{array}{*{11}c}0.525 & (-0.026+0.521j)\\\\(-0.026-0.521j) & -0.121\\\\\\end{array}\\right)\\end{equation*}"
      ],
      "text/plain": [
       "Quantum object: dims = [[2], [2]], shape = (2, 2), type = oper, isherm = True\n",
       "Qobj data =\n",
       "[[ 0.52527398-2.17852594e-17j -0.02585814+5.20717096e-01j]\n",
       " [-0.02585814-5.20717096e-01j -0.12146498+7.60768947e-17j]]"
      ]
     },
     "metadata": {},
     "output_type": "display_data"
    }
   ],
   "source": [
    "for qo in qutip.choi_to_kraus(qutip.Qobj(m)):\n",
    "    display(qo)"
   ]
  },
  {
   "cell_type": "code",
   "execution_count": 171,
   "metadata": {},
   "outputs": [
    {
     "data": {
      "text/plain": [
       "array([[1.95738295+0.j        , 0.03974224+0.19276843j],\n",
       "       [0.03974224-0.19276843j, 1.62589828+0.j        ]])"
      ]
     },
     "execution_count": 171,
     "metadata": {},
     "output_type": "execute_result"
    }
   ],
   "source": [
    "sum([m.data.T.conjugate() @ m.data for m in qutip.choi_to_kraus(qutip.Qobj(m))]).toarray()"
   ]
  },
  {
   "cell_type": "code",
   "execution_count": 172,
   "metadata": {},
   "outputs": [
    {
     "data": {
      "text/latex": [
       "Quantum object: dims = [[2], [2]], shape = (2, 2), type = oper, isherm = False\\begin{equation*}\\left(\\begin{array}{*{11}c}0.692 & (-0.529-0.182j)\\\\(0.549+0.262j) & (0.344+0.563j)\\\\\\end{array}\\right)\\end{equation*}"
      ],
      "text/plain": [
       "Quantum object: dims = [[2], [2]], shape = (2, 2), type = oper, isherm = False\n",
       "Qobj data =\n",
       "[[ 0.69187231+2.61554510e-18j -0.52887306-1.82272792e-01j]\n",
       " [ 0.54946132+2.62097781e-01j  0.34387395+5.63348306e-01j]]"
      ]
     },
     "metadata": {},
     "output_type": "display_data"
    },
    {
     "data": {
      "text/latex": [
       "Quantum object: dims = [[2], [2]], shape = (2, 2), type = oper, isherm = False\\begin{equation*}\\left(\\begin{array}{*{11}c}(0.001+0.006j) & (0.034+0.050j)\\\\0.061 & (-0.047+0.016j)\\\\\\end{array}\\right)\\end{equation*}"
      ],
      "text/plain": [
       "Quantum object: dims = [[2], [2]], shape = (2, 2), type = oper, isherm = False\n",
       "Qobj data =\n",
       "[[ 0.00118316+6.37645541e-03j  0.03435207+4.97126111e-02j]\n",
       " [ 0.06130892+4.76894799e-18j -0.04672341+1.56042605e-02j]]"
      ]
     },
     "metadata": {},
     "output_type": "display_data"
    },
    {
     "data": {
      "text/latex": [
       "Quantum object: dims = [[2], [2]], shape = (2, 2), type = oper, isherm = False\\begin{equation*}\\left(\\begin{array}{*{11}c}(4.455\\times10^{-10}-1.301\\times10^{-08}j) & (1.842\\times10^{-09}-2.802\\times10^{-09}j)\\\\(-2.192\\times10^{-09}+4.638\\times10^{-09}j) & (-5.134\\times10^{-09}+3.391\\times10^{-09}j)\\\\\\end{array}\\right)\\end{equation*}"
      ],
      "text/plain": [
       "Quantum object: dims = [[2], [2]], shape = (2, 2), type = oper, isherm = False\n",
       "Qobj data =\n",
       "[[ 4.45503101e-10-1.30067310e-08j  1.84234504e-09-2.80161509e-09j]\n",
       " [-2.19234505e-09+4.63810508e-09j -5.13447622e-09+3.39055168e-09j]]"
      ]
     },
     "metadata": {},
     "output_type": "display_data"
    },
    {
     "data": {
      "text/latex": [
       "Quantum object: dims = [[2], [2]], shape = (2, 2), type = oper, isherm = False\\begin{equation*}\\left(\\begin{array}{*{11}c}(1.108\\times10^{-10}+7.343\\times10^{-10}j) & (2.463\\times10^{-09}+9.145\\times10^{-10}j)\\\\(-3.821\\times10^{-11}+2.073\\times10^{-09}j) & (2.785\\times10^{-09}-1.550\\times10^{-10}j)\\\\\\end{array}\\right)\\end{equation*}"
      ],
      "text/plain": [
       "Quantum object: dims = [[2], [2]], shape = (2, 2), type = oper, isherm = False\n",
       "Qobj data =\n",
       "[[ 1.10845686e-10+7.34264300e-10j  2.46288708e-09+9.14480209e-10j]\n",
       " [-3.82116601e-11+2.07265974e-09j  2.78485351e-09-1.55026369e-10j]]"
      ]
     },
     "metadata": {},
     "output_type": "display_data"
    }
   ],
   "source": [
    "tot_qo = qutip.choi_to_kraus(qutip.Qobj(m_choi))\n",
    "\n",
    "for qo in tot_qo:\n",
    "    display(qo)\n",
    "\n",
    "# only two relevant"
   ]
  },
  {
   "cell_type": "code",
   "execution_count": 167,
   "metadata": {},
   "outputs": [
    {
     "data": {
      "text/plain": [
       "array([[1.00000000e+00+0.00000000e+00j, 1.82040312e-16-3.10304303e-16j],\n",
       "       [1.82040312e-16+3.10304303e-16j, 1.00000000e+00+0.00000000e+00j]])"
      ]
     },
     "execution_count": 167,
     "metadata": {},
     "output_type": "execute_result"
    }
   ],
   "source": [
    "# Correct value\n",
    "sum([m.data.T.conjugate() @ m.data for m in tot_qo]).toarray()"
   ]
  },
  {
   "cell_type": "code",
   "execution_count": 180,
   "metadata": {},
   "outputs": [],
   "source": [
    "kraus_mats = [m.data.toarray() for m in tot_qo[:2]]"
   ]
  },
  {
   "cell_type": "code",
   "execution_count": 188,
   "metadata": {},
   "outputs": [
    {
     "name": "stdout",
     "output_type": "stream",
     "text": [
      "0 [0.79517054-0.32559882j 0.24057572+0.88894712j]\n",
      "1 [ 0.03440991+0.03570869j -0.07995016-0.01372798j]\n"
     ]
    }
   ],
   "source": [
    "for i, km in enumerate(kraus_mats):\n",
    "    evals = np.linalg.eigvals(km)\n",
    "    print(i,evals)"
   ]
  },
  {
   "cell_type": "code",
   "execution_count": null,
   "metadata": {},
   "outputs": [],
   "source": []
  },
  {
   "cell_type": "code",
   "execution_count": null,
   "metadata": {},
   "outputs": [],
   "source": []
  }
 ],
 "metadata": {
  "kernelspec": {
   "display_name": "Python 3",
   "language": "python",
   "name": "python3"
  },
  "language_info": {
   "codemirror_mode": {
    "name": "ipython",
    "version": 3
   },
   "file_extension": ".py",
   "mimetype": "text/x-python",
   "name": "python",
   "nbconvert_exporter": "python",
   "pygments_lexer": "ipython3",
   "version": "3.7.6"
  }
 },
 "nbformat": 4,
 "nbformat_minor": 4
}
