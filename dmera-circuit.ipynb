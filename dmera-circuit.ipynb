{
 "cells": [
  {
   "cell_type": "code",
   "execution_count": 1,
   "metadata": {
    "ExecuteTime": {
     "end_time": "2020-01-28T08:03:29.605460Z",
     "start_time": "2020-01-28T08:03:26.889878Z"
    }
   },
   "outputs": [],
   "source": [
    "import qutip as qt\n",
    "import numpy as np\n",
    "from scipy.stats import unitary_group\n",
    "import random\n",
    "\n",
    "import matplotlib.pyplot as plt\n",
    "\n",
    "import cirq\n",
    "from cirq.ops import common_gates, raw_types\n",
    "from cirq.sim import wave_function\n",
    "from tqdm import tqdm_notebook as tqdm\n",
    "\n",
    "import networkx as nx\n",
    "\n",
    "import pandas as pd"
   ]
  },
  {
   "cell_type": "markdown",
   "metadata": {},
   "source": [
    "# Defining the circuit"
   ]
  },
  {
   "cell_type": "markdown",
   "metadata": {},
   "source": [
    "For simplicity, we will assume that d = 1."
   ]
  },
  {
   "cell_type": "code",
   "execution_count": 2,
   "metadata": {
    "ExecuteTime": {
     "end_time": "2020-01-28T08:03:29.609902Z",
     "start_time": "2020-01-28T08:03:29.607319Z"
    }
   },
   "outputs": [],
   "source": [
    "def q(xs):\n",
    "    return [cirq.LineQubit(x) for x in xs]"
   ]
  },
  {
   "cell_type": "code",
   "execution_count": 3,
   "metadata": {
    "ExecuteTime": {
     "end_time": "2020-01-28T08:03:29.615149Z",
     "start_time": "2020-01-28T08:03:29.611729Z"
    }
   },
   "outputs": [],
   "source": [
    "# For some reason cirq.I is not invertible\n",
    "\n",
    "class IdGate(cirq.IdentityGate):\n",
    "    def __init__(self, num_qubits):\n",
    "        super().__init__(num_qubits)\n",
    "    \n",
    "    def __pow__(self, n):\n",
    "        return IdGate(self._num_qubits)\n"
   ]
  },
  {
   "cell_type": "code",
   "execution_count": 4,
   "metadata": {
    "ExecuteTime": {
     "end_time": "2020-01-28T08:03:29.619346Z",
     "start_time": "2020-01-28T08:03:29.616660Z"
    }
   },
   "outputs": [],
   "source": [
    "IdG = IdGate(1)"
   ]
  },
  {
   "cell_type": "code",
   "execution_count": 5,
   "metadata": {
    "ExecuteTime": {
     "end_time": "2020-01-28T08:03:29.627230Z",
     "start_time": "2020-01-28T08:03:29.621398Z"
    }
   },
   "outputs": [],
   "source": [
    "# Generate a random unitary\n",
    "\n",
    "class RandomUnitaryGate(cirq.TwoQubitMatrixGate):\n",
    "    \n",
    "    def __init__(self, random_state = None, *, _random_gate = None):\n",
    "        if _random_gate is None:\n",
    "            mat = unitary_group.rvs(4, random_state = random_state)\n",
    "        else:\n",
    "            mat = _random_gate\n",
    "        super().__init__(mat)\n",
    "    \n",
    "    def __pow__(self, n):\n",
    "        if n == -1:\n",
    "            mat = np.matrix(self._matrix).H\n",
    "            return RandomUnitaryGate(_random_gate = np.array(mat))\n",
    "    \n",
    "    def __str__(self):\n",
    "        return 'Rnd'\n",
    "    \n",
    "    def _circuit_diagram_info_(self, args):\n",
    "        return 'Rnd1', 'Rnd2'\n",
    "    "
   ]
  },
  {
   "cell_type": "code",
   "execution_count": 6,
   "metadata": {
    "ExecuteTime": {
     "end_time": "2020-01-28T08:03:29.713190Z",
     "start_time": "2020-01-28T08:03:29.708937Z"
    }
   },
   "outputs": [],
   "source": [
    "simulator = cirq.DensityMatrixSimulator()"
   ]
  },
  {
   "cell_type": "code",
   "execution_count": 7,
   "metadata": {
    "ExecuteTime": {
     "end_time": "2020-01-28T08:03:30.794007Z",
     "start_time": "2020-01-28T08:03:30.784853Z"
    }
   },
   "outputs": [],
   "source": [
    "def random_slice(support, start = None):\n",
    "    if start is None:\n",
    "        start = random.randint(0,1)\n",
    "    if start not in [0, 1]:\n",
    "        raise ValueError('Needs to be 0, 1, or None.')\n",
    "\n",
    "    if start == 1:\n",
    "        yield IdG(support[0])\n",
    "        \n",
    "    for i in range(start, len(support) - 1, 2):\n",
    "        r = RandomUnitaryGate()\n",
    "        yield r(support[i], support[i+1])\n",
    "    if (len(support) - start) % 2 == 1:\n",
    "        yield IdG(support[-1])"
   ]
  },
  {
   "cell_type": "code",
   "execution_count": 8,
   "metadata": {
    "ExecuteTime": {
     "end_time": "2020-01-28T08:03:31.081931Z",
     "start_time": "2020-01-28T08:03:31.074895Z"
    }
   },
   "outputs": [],
   "source": [
    "def next_support(support, D, N, layer_num):\n",
    "    lowest = support[0].x\n",
    "    highest = support[-1].x\n",
    "    \n",
    "    current_multiple = 2 ** layer_num\n",
    "    \n",
    "    # first available not in the circuit\n",
    "    next_lowest = ((lowest - 1) // current_multiple)*current_multiple\n",
    "    next_highest = (highest // current_multiple + 1)*current_multiple\n",
    "    \n",
    "    new_support = [qubit for qubit in support]\n",
    "    \n",
    "    for i in range(D):\n",
    "        if next_lowest > 0:\n",
    "            new_support.insert(0, cirq.LineQubit(next_lowest))\n",
    "            next_lowest -= current_multiple\n",
    "        \n",
    "        if next_highest <= N:\n",
    "            new_support.append(cirq.LineQubit(next_highest))\n",
    "            next_highest += current_multiple\n",
    "            \n",
    "    return new_support"
   ]
  },
  {
   "cell_type": "code",
   "execution_count": 9,
   "metadata": {
    "ExecuteTime": {
     "end_time": "2020-01-28T08:03:31.214961Z",
     "start_time": "2020-01-28T08:03:31.207895Z"
    }
   },
   "outputs": [],
   "source": [
    "def support_per_layer(initial_support, D, N):\n",
    "    support = initial_support\n",
    "    i = 0 \n",
    "    supports = []\n",
    "    while len(support) != 0:\n",
    "        new_support = next_support(support, D, N, i)\n",
    "        i += 1\n",
    "        \n",
    "        supports.append((support, new_support))\n",
    "        support = list(filter(lambda q: q.x % (2 ** i) == 0, new_support))\n",
    "        \n",
    "    return supports"
   ]
  },
  {
   "cell_type": "code",
   "execution_count": 10,
   "metadata": {
    "ExecuteTime": {
     "end_time": "2020-01-28T08:03:31.398328Z",
     "start_time": "2020-01-28T08:03:31.390997Z"
    }
   },
   "outputs": [],
   "source": [
    "def random_layer(support, goal_support, D):\n",
    "    slices = []\n",
    "    support_set = set(goal_support)\n",
    "    circuit = cirq.Circuit()\n",
    "    \n",
    "    for i in range(D):\n",
    "        single_slice = list(random_slice(support, ( i) % 2))\n",
    "        single_slice = [gate for gate in single_slice if any(map(lambda q: q in support_set, gate.qubits))]\n",
    "        \n",
    "        for gate in single_slice:\n",
    "            for qubit in gate.qubits:\n",
    "                support_set.add(qubit)\n",
    "        \n",
    "        slices.append(single_slice)\n",
    "    \n",
    "    for single_slice in slices[::-1]:\n",
    "        circuit.append(single_slice, strategy = cirq.InsertStrategy.NEW_THEN_INLINE)\n",
    "    \n",
    "    return circuit"
   ]
  },
  {
   "cell_type": "code",
   "execution_count": 11,
   "metadata": {
    "ExecuteTime": {
     "end_time": "2020-01-28T08:03:31.585695Z",
     "start_time": "2020-01-28T08:03:31.567442Z"
    }
   },
   "outputs": [],
   "source": [
    "def fix_circuit(circuit, support, goal_support, num_layer):\n",
    "    new_circuit = cirq.Circuit()\n",
    "    current_multiple = 2**num_layer\n",
    "    inserted = [qubit for qubit in support if qubit.x % (current_multiple * 2) != 0]\n",
    "    \n",
    "    if len(inserted) < len(goal_support):\n",
    "        return circuit, None\n",
    "    \n",
    "    real_qubit = {q: q for q in support}    \n",
    "    goal_qubit = {nq: sq for nq, sq in zip(inserted, goal_support)}\n",
    "    \n",
    "    for moment in circuit:\n",
    "        new_moment = []\n",
    "        for gate in moment:\n",
    "            new_moment.append(gate.gate(*[real_qubit[q] for q in gate.qubits]))\n",
    "        \n",
    "        for gate in moment:\n",
    "            if len(gate.qubits) != 2:\n",
    "                continue\n",
    "                \n",
    "            a, b = gate.qubits[0], gate.qubits[1]\n",
    "\n",
    "            disStatusQuo = abs(a.x - goal_qubit.get(real_qubit[a], a).x) + abs(b.x - goal_qubit.get(real_qubit[b], b).x)\n",
    "            disAlternative = abs(b.x - goal_qubit.get(real_qubit[a], b).x) + abs(a.x - goal_qubit.get(real_qubit[b], a).x)\n",
    "            \n",
    "            \n",
    "            if disAlternative < disStatusQuo:\n",
    "                new_moment.append(cirq.SWAP(real_qubit[a], real_qubit[b]))\n",
    "                real_qubit[a], real_qubit[b] = real_qubit[b], real_qubit[a]  \n",
    "        \n",
    "        new_circuit.append(new_moment, strategy = cirq.InsertStrategy.NEW_THEN_INLINE)\n",
    "    \n",
    "    new_goal = [real_qubit[qubit] for qubit in goal_support]\n",
    "    \n",
    "    return new_circuit, new_goal"
   ]
  },
  {
   "cell_type": "code",
   "execution_count": 12,
   "metadata": {
    "ExecuteTime": {
     "end_time": "2020-01-28T08:03:32.828311Z",
     "start_time": "2020-01-28T08:03:32.822727Z"
    }
   },
   "outputs": [],
   "source": [
    "def random_circuit(support, D, N):\n",
    "    # Ideally must have |support| = 2D - 1 continuous\n",
    "    supports = support_per_layer(support, D, N)\n",
    "    \n",
    "    circuits = []\n",
    "    for i, (goal_support, support) in enumerate(supports):\n",
    "        circuit = random_layer(support, goal_support, D)\n",
    "        if i == 0:\n",
    "            # Only need to rewrite the last one/the ones that are traced out\n",
    "            circuit, new_goal = fix_circuit(circuit, sorted(list(circuit.all_qubits())), goal_support, i)\n",
    "        else:\n",
    "            # Only need to rewrite the last one/the ones that are traced out\n",
    "            circuit, alt_goal = fix_circuit(circuit, sorted(list(circuit.all_qubits())), goal_support, i)\n",
    "            #print(alt_goal, goal_support)\n",
    "            if alt_goal:\n",
    "                swaps = [cirq.SWAP(alt, orig) for alt, orig in zip(alt_goal, goal_support) if alt != orig]\n",
    "\n",
    "                circuit.append(swaps, strategy = cirq.InsertStrategy.NEW_THEN_INLINE)\n",
    "        circuits.append(circuit)\n",
    "    return circuits[::-1], new_goal\n",
    "    "
   ]
  },
  {
   "cell_type": "code",
   "execution_count": 13,
   "metadata": {
    "ExecuteTime": {
     "end_time": "2020-01-28T08:03:33.245736Z",
     "start_time": "2020-01-28T08:03:33.237871Z"
    }
   },
   "outputs": [],
   "source": [
    "def random_circuit_no_fix(support, D, N):\n",
    "    # Ideally must have |support| = 2D - 1 continuous\n",
    "    supports = support_per_layer(support, D, N)\n",
    "    \n",
    "    circuits = []\n",
    "    for i, (goal_support, support) in enumerate(supports):\n",
    "        circuit = random_layer(support, goal_support, D)\n",
    "        circuits.append(circuit)\n",
    "    return circuits[::-1]\n",
    "    "
   ]
  },
  {
   "cell_type": "code",
   "execution_count": 14,
   "metadata": {
    "ExecuteTime": {
     "end_time": "2020-01-28T08:03:33.813086Z",
     "start_time": "2020-01-28T08:03:33.808334Z"
    }
   },
   "outputs": [],
   "source": [
    "def random_circuit_both_returns(support, D, N):\n",
    "    # Ideally must have |support| = 2D - 1 continuous\n",
    "    supports = support_per_layer(support, D, N)\n",
    "    \n",
    "    circuitsA = []\n",
    "    circuitsB = []\n",
    "    new_goal = None\n",
    "    for i, (goal_support, support) in enumerate(supports):\n",
    "        circuit = random_layer(support, goal_support, D)\n",
    "        circuitsA.append(circuit)\n",
    "        if i == 0:\n",
    "            # Only need to rewrite the last one/the ones that are traced out\n",
    "            circuit, new_goal = fix_circuit(circuit, sorted(list(circuit.all_qubits())), goal_support, i)\n",
    "        circuitsB.append(circuit)\n",
    "\n",
    "    return circuitsA[::-1], circuitsB[::-1], new_goal\n",
    "    "
   ]
  },
  {
   "cell_type": "markdown",
   "metadata": {},
   "source": [
    "## Testing validity"
   ]
  },
  {
   "cell_type": "code",
   "execution_count": 15,
   "metadata": {
    "ExecuteTime": {
     "end_time": "2020-01-28T08:03:36.181162Z",
     "start_time": "2020-01-28T08:03:36.089481Z"
    }
   },
   "outputs": [
    {
     "data": {
      "text/plain": [
       "[cirq.LineQubit(99), cirq.LineQubit(101), cirq.LineQubit(103)]"
      ]
     },
     "execution_count": 15,
     "metadata": {},
     "output_type": "execute_result"
    }
   ],
   "source": [
    "random_circuit(q([101,102,103]), 3, 128)[1]"
   ]
  },
  {
   "cell_type": "code",
   "execution_count": 16,
   "metadata": {
    "ExecuteTime": {
     "end_time": "2020-01-28T08:03:38.627094Z",
     "start_time": "2020-01-28T08:03:38.555396Z"
    }
   },
   "outputs": [
    {
     "data": {
      "text/html": [
       "<pre style=\"overflow: auto; white-space: pre;\">1: ────────────────────────────────────────────────────────────────────────────────────────────────────────────────────────────────────────────Rnd1───I──────Rnd1───\n",
       "                                                                                                                                               │             │\n",
       "2: ───────────────────────────────────────────────────────────────────────────────────────────────────────────────────────Rnd1───I──────Rnd1───Rnd2───Rnd1───Rnd2───\n",
       "                                                                                                                          │             │             │\n",
       "3: ───────────────────────────────────────────────────────────────────────────────────────────────────────────────────────┼─────────────┼──────Rnd1───Rnd2───Rnd1───\n",
       "                                                                                                                          │             │      │             │\n",
       "4: ──────────────────────────────────────────────────────────────────────────────────────────────────Rnd1───I──────Rnd1───Rnd2───Rnd1───Rnd2───Rnd2───Rnd1───Rnd2───\n",
       "                                                                                                     │             │             │                    │\n",
       "5: ──────────────────────────────────────────────────────────────────────────────────────────────────┼─────────────┼─────────────┼─────────────Rnd1───Rnd2──────────\n",
       "                                                                                                     │             │             │             │\n",
       "6: ──────────────────────────────────────────────────────────────────────────────────────────────────┼─────────────┼──────Rnd1───Rnd2───Rnd1───Rnd2─────────────────\n",
       "                                                                                                     │             │      │             │\n",
       "8: ─────────────────────────────────────────────────────────────────────────────Rnd1───I──────Rnd1───Rnd2───Rnd1───Rnd2───Rnd2───Rnd1───Rnd2────────────────────────\n",
       "                                                                                │             │             │                    │\n",
       "10: ────────────────────────────────────────────────────────────────────────────┼─────────────┼─────────────┼─────────────Rnd1───Rnd2───────────────────────────────\n",
       "                                                                                │             │             │             │\n",
       "12: ────────────────────────────────────────────────────────────────────────────┼─────────────┼──────Rnd1───Rnd2───Rnd1───Rnd2──────────────────────────────────────\n",
       "                                                                                │             │      │             │\n",
       "16: ───────────────────────────────────────────────────────Rnd1───I──────Rnd1───Rnd2───Rnd1───Rnd2───Rnd2───Rnd1───Rnd2─────────────────────────────────────────────\n",
       "                                                           │             │             │                    │\n",
       "20: ───────────────────────────────────────────────────────┼─────────────┼─────────────┼─────────────Rnd1───Rnd2────────────────────────────────────────────────────\n",
       "                                                           │             │             │             │\n",
       "24: ───────────────────────────────────────────────────────┼─────────────┼──────Rnd1───Rnd2───Rnd1───Rnd2───────────────────────────────────────────────────────────\n",
       "                                                           │             │      │             │\n",
       "32: ──────────────────────────────────Rnd1───I──────Rnd1───Rnd2───Rnd1───Rnd2───Rnd2───Rnd1───Rnd2──────────────────────────────────────────────────────────────────\n",
       "                                      │             │             │                    │\n",
       "40: ──────────────────────────────────┼─────────────┼─────────────┼─────────────Rnd1───Rnd2─────────────────────────────────────────────────────────────────────────\n",
       "                                      │             │             │             │\n",
       "48: ──────────────────────────────────┼─────────────┼──────Rnd1───Rnd2───Rnd1───Rnd2────────────────────────────────────────────────────────────────────────────────\n",
       "                                      │             │      │             │\n",
       "64: ────────────────Rnd1───I───Rnd1───Rnd2───Rnd1───Rnd2───Rnd2───Rnd1───Rnd2───────────────────────────────────────────────────────────────────────────────────────\n",
       "                    │          │             │                    │\n",
       "80: ────────────────┼──────────┼─────────────┼─────────────Rnd1───Rnd2──────────────────────────────────────────────────────────────────────────────────────────────\n",
       "                    │          │             │             │\n",
       "96: ────────────────┼──────────┼──────Rnd1───Rnd2───Rnd1───Rnd2─────────────────────────────────────────────────────────────────────────────────────────────────────\n",
       "                    │          │      │             │\n",
       "128: ───I───I───I───Rnd2───I───Rnd2───Rnd2───I──────Rnd2────────────────────────────────────────────────────────────────────────────────────────────────────────────</pre>"
      ],
      "text/plain": [
       "1: ────────────────────────────────────────────────────────────────────────────────────────────────────────────────────────────────────────────Rnd1───I──────Rnd1───\n",
       "                                                                                                                                               │             │\n",
       "2: ───────────────────────────────────────────────────────────────────────────────────────────────────────────────────────Rnd1───I──────Rnd1───Rnd2───Rnd1───Rnd2───\n",
       "                                                                                                                          │             │             │\n",
       "3: ───────────────────────────────────────────────────────────────────────────────────────────────────────────────────────┼─────────────┼──────Rnd1───Rnd2───Rnd1───\n",
       "                                                                                                                          │             │      │             │\n",
       "4: ──────────────────────────────────────────────────────────────────────────────────────────────────Rnd1───I──────Rnd1───Rnd2───Rnd1───Rnd2───Rnd2───Rnd1───Rnd2───\n",
       "                                                                                                     │             │             │                    │\n",
       "5: ──────────────────────────────────────────────────────────────────────────────────────────────────┼─────────────┼─────────────┼─────────────Rnd1───Rnd2──────────\n",
       "                                                                                                     │             │             │             │\n",
       "6: ──────────────────────────────────────────────────────────────────────────────────────────────────┼─────────────┼──────Rnd1───Rnd2───Rnd1───Rnd2─────────────────\n",
       "                                                                                                     │             │      │             │\n",
       "8: ─────────────────────────────────────────────────────────────────────────────Rnd1───I──────Rnd1───Rnd2───Rnd1───Rnd2───Rnd2───Rnd1───Rnd2────────────────────────\n",
       "                                                                                │             │             │                    │\n",
       "10: ────────────────────────────────────────────────────────────────────────────┼─────────────┼─────────────┼─────────────Rnd1───Rnd2───────────────────────────────\n",
       "                                                                                │             │             │             │\n",
       "12: ────────────────────────────────────────────────────────────────────────────┼─────────────┼──────Rnd1───Rnd2───Rnd1───Rnd2──────────────────────────────────────\n",
       "                                                                                │             │      │             │\n",
       "16: ───────────────────────────────────────────────────────Rnd1───I──────Rnd1───Rnd2───Rnd1───Rnd2───Rnd2───Rnd1───Rnd2─────────────────────────────────────────────\n",
       "                                                           │             │             │                    │\n",
       "20: ───────────────────────────────────────────────────────┼─────────────┼─────────────┼─────────────Rnd1───Rnd2────────────────────────────────────────────────────\n",
       "                                                           │             │             │             │\n",
       "24: ───────────────────────────────────────────────────────┼─────────────┼──────Rnd1───Rnd2───Rnd1───Rnd2───────────────────────────────────────────────────────────\n",
       "                                                           │             │      │             │\n",
       "32: ──────────────────────────────────Rnd1───I──────Rnd1───Rnd2───Rnd1───Rnd2───Rnd2───Rnd1───Rnd2──────────────────────────────────────────────────────────────────\n",
       "                                      │             │             │                    │\n",
       "40: ──────────────────────────────────┼─────────────┼─────────────┼─────────────Rnd1───Rnd2─────────────────────────────────────────────────────────────────────────\n",
       "                                      │             │             │             │\n",
       "48: ──────────────────────────────────┼─────────────┼──────Rnd1───Rnd2───Rnd1───Rnd2────────────────────────────────────────────────────────────────────────────────\n",
       "                                      │             │      │             │\n",
       "64: ────────────────Rnd1───I───Rnd1───Rnd2───Rnd1───Rnd2───Rnd2───Rnd1───Rnd2───────────────────────────────────────────────────────────────────────────────────────\n",
       "                    │          │             │                    │\n",
       "80: ────────────────┼──────────┼─────────────┼─────────────Rnd1───Rnd2──────────────────────────────────────────────────────────────────────────────────────────────\n",
       "                    │          │             │             │\n",
       "96: ────────────────┼──────────┼──────Rnd1───Rnd2───Rnd1───Rnd2─────────────────────────────────────────────────────────────────────────────────────────────────────\n",
       "                    │          │      │             │\n",
       "128: ───I───I───I───Rnd2───I───Rnd2───Rnd2───I──────Rnd2────────────────────────────────────────────────────────────────────────────────────────────────────────────"
      ]
     },
     "execution_count": 16,
     "metadata": {},
     "output_type": "execute_result"
    }
   ],
   "source": [
    "cirq.Circuit.from_ops(random_circuit_no_fix(q([1,2,3]), 3, 128))"
   ]
  },
  {
   "cell_type": "code",
   "execution_count": null,
   "metadata": {},
   "outputs": [],
   "source": []
  },
  {
   "cell_type": "code",
   "execution_count": 17,
   "metadata": {
    "ExecuteTime": {
     "end_time": "2020-01-28T08:03:40.891157Z",
     "start_time": "2020-01-28T08:03:40.888956Z"
    }
   },
   "outputs": [],
   "source": [
    "simulator = cirq.Simulator()"
   ]
  },
  {
   "cell_type": "code",
   "execution_count": 18,
   "metadata": {
    "ExecuteTime": {
     "end_time": "2020-01-28T08:03:41.210584Z",
     "start_time": "2020-01-28T08:03:41.208083Z"
    }
   },
   "outputs": [],
   "source": [
    "# Test for equality"
   ]
  },
  {
   "cell_type": "code",
   "execution_count": 19,
   "metadata": {
    "ExecuteTime": {
     "end_time": "2020-01-28T08:03:41.768037Z",
     "start_time": "2020-01-28T08:03:41.499595Z"
    }
   },
   "outputs": [
    {
     "ename": "NameError",
     "evalue": "name 'new_goal' is not defined",
     "output_type": "error",
     "traceback": [
      "\u001b[0;31m---------------------------------------------------------------------------\u001b[0m",
      "\u001b[0;31mNameError\u001b[0m                                 Traceback (most recent call last)",
      "\u001b[0;32m<ipython-input-19-fccbe70ae19d>\u001b[0m in \u001b[0;36m<module>\u001b[0;34m\u001b[0m\n\u001b[0;32m----> 1\u001b[0;31m \u001b[0mnew_goal\u001b[0m\u001b[0;34m\u001b[0m\u001b[0;34m\u001b[0m\u001b[0m\n\u001b[0m",
      "\u001b[0;31mNameError\u001b[0m: name 'new_goal' is not defined"
     ]
    }
   ],
   "source": [
    "new_goal"
   ]
  },
  {
   "cell_type": "code",
   "execution_count": 20,
   "metadata": {
    "ExecuteTime": {
     "end_time": "2020-01-28T08:03:41.961556Z",
     "start_time": "2020-01-28T08:03:41.871958Z"
    },
    "scrolled": true
   },
   "outputs": [
    {
     "data": {
      "text/plain": [
       "([128: ───I───I───,\n",
       "  64: ────I───Rnd1───\n",
       "            │\n",
       "128: ───I───Rnd2───,\n",
       "  32: ────I──────Rnd1───\n",
       "               │\n",
       "64: ────Rnd1───Rnd2───\n",
       "        │\n",
       "96: ────Rnd2───Rnd1───\n",
       "               │\n",
       "128: ───I──────Rnd2───,\n",
       "  64: ────Rnd1──────────\n",
       "        │\n",
       "80: ────Rnd2───Rnd1───\n",
       "               │\n",
       "96: ────Rnd1───Rnd2───\n",
       "        │\n",
       "112: ───Rnd2───Rnd1───\n",
       "               │\n",
       "128: ───I──────Rnd2───,\n",
       "  80: ────Rnd1──────────\n",
       "        │\n",
       "88: ────Rnd2───Rnd1───\n",
       "               │\n",
       "96: ────Rnd1───Rnd2───\n",
       "        │\n",
       "104: ───Rnd2───Rnd1───\n",
       "               │\n",
       "112: ───Rnd1───Rnd2───\n",
       "        │\n",
       "120: ───Rnd2──────────,\n",
       "  92: ────Rnd1──────────\n",
       "        │\n",
       "96: ────Rnd2───Rnd1───\n",
       "               │\n",
       "100: ───Rnd1───Rnd2───\n",
       "        │\n",
       "104: ───Rnd2───Rnd1───\n",
       "               │\n",
       "108: ───Rnd1───Rnd2───\n",
       "        │\n",
       "112: ───Rnd2──────────,\n",
       "  98: ────Rnd1──────────\n",
       "        │\n",
       "100: ───Rnd2───Rnd1───\n",
       "               │\n",
       "102: ───Rnd1───Rnd2───\n",
       "        │\n",
       "104: ───Rnd2───Rnd1───\n",
       "               │\n",
       "106: ───Rnd1───Rnd2───\n",
       "        │\n",
       "108: ───Rnd2──────────,\n",
       "  100: ───Rnd1──────────\n",
       "        │\n",
       "101: ───Rnd2───Rnd1───\n",
       "               │\n",
       "102: ───Rnd1───Rnd2───\n",
       "        │\n",
       "103: ───Rnd2───Rnd1───\n",
       "               │\n",
       "104: ───Rnd1───Rnd2───\n",
       "        │\n",
       "105: ───Rnd2──────────],\n",
       " [128: ───I───I───,\n",
       "  64: ────I───Rnd1───\n",
       "            │\n",
       "128: ───I───Rnd2───,\n",
       "  32: ────I──────Rnd1───\n",
       "               │\n",
       "64: ────Rnd1───Rnd2───\n",
       "        │\n",
       "96: ────Rnd2───Rnd1───\n",
       "               │\n",
       "128: ───I──────Rnd2───,\n",
       "  64: ────Rnd1──────────\n",
       "        │\n",
       "80: ────Rnd2───Rnd1───\n",
       "               │\n",
       "96: ────Rnd1───Rnd2───\n",
       "        │\n",
       "112: ───Rnd2───Rnd1───\n",
       "               │\n",
       "128: ───I──────Rnd2───,\n",
       "  80: ────Rnd1──────────\n",
       "        │\n",
       "88: ────Rnd2───Rnd1───\n",
       "               │\n",
       "96: ────Rnd1───Rnd2───\n",
       "        │\n",
       "104: ───Rnd2───Rnd1───\n",
       "               │\n",
       "112: ───Rnd1───Rnd2───\n",
       "        │\n",
       "120: ───Rnd2──────────,\n",
       "  92: ────Rnd1──────────\n",
       "        │\n",
       "96: ────Rnd2───Rnd1───\n",
       "               │\n",
       "100: ───Rnd1───Rnd2───\n",
       "        │\n",
       "104: ───Rnd2───Rnd1───\n",
       "               │\n",
       "108: ───Rnd1───Rnd2───\n",
       "        │\n",
       "112: ───Rnd2──────────,\n",
       "  98: ────Rnd1──────────\n",
       "        │\n",
       "100: ───Rnd2───Rnd1───\n",
       "               │\n",
       "102: ───Rnd1───Rnd2───\n",
       "        │\n",
       "104: ───Rnd2───Rnd1───\n",
       "               │\n",
       "106: ───Rnd1───Rnd2───\n",
       "        │\n",
       "108: ───Rnd2──────────,\n",
       "  100: ───Rnd1──────────\n",
       "        │\n",
       "101: ───Rnd2───Rnd1───\n",
       "               │\n",
       "102: ───Rnd1───Rnd2───\n",
       "        │\n",
       "103: ───Rnd2───Rnd1───\n",
       "               │\n",
       "104: ───Rnd1───Rnd2───\n",
       "        │\n",
       "105: ───Rnd2──────────],\n",
       " None)"
      ]
     },
     "execution_count": 20,
     "metadata": {},
     "output_type": "execute_result"
    }
   ],
   "source": [
    "qubits = q([101,102,103,104])\n",
    "regular, fixed, new_goal = random_circuit_both_returns(q([101,102,103,104]), 3, 128)\n",
    "\n",
    "random_circuit_both_returns(qubits, 2, 128)"
   ]
  },
  {
   "cell_type": "code",
   "execution_count": 21,
   "metadata": {
    "ExecuteTime": {
     "end_time": "2020-01-28T08:03:42.446187Z",
     "start_time": "2020-01-28T08:03:42.441241Z"
    }
   },
   "outputs": [
    {
     "data": {
      "text/plain": [
       "([cirq.LineQubit(101),\n",
       "  cirq.LineQubit(102),\n",
       "  cirq.LineQubit(103),\n",
       "  cirq.LineQubit(104)],\n",
       " [cirq.LineQubit(99),\n",
       "  cirq.LineQubit(101),\n",
       "  cirq.LineQubit(103),\n",
       "  cirq.LineQubit(105)])"
      ]
     },
     "execution_count": 21,
     "metadata": {},
     "output_type": "execute_result"
    }
   ],
   "source": [
    "qubits, new_goal"
   ]
  },
  {
   "cell_type": "code",
   "execution_count": 22,
   "metadata": {
    "ExecuteTime": {
     "end_time": "2020-01-28T08:03:43.089621Z",
     "start_time": "2020-01-28T08:03:43.068310Z"
    }
   },
   "outputs": [
    {
     "data": {
      "text/plain": [
       "[128: ───I───I───I───,\n",
       " 64: ────Rnd1───I───Rnd1───\n",
       "        │          │\n",
       "128: ───Rnd2───I───Rnd2───,\n",
       " 32: ────Rnd1───I──────Rnd1───\n",
       "        │             │\n",
       "64: ────Rnd2───Rnd1───Rnd2───\n",
       "               │\n",
       "96: ────Rnd1───Rnd2───Rnd1───\n",
       "        │             │\n",
       "128: ───Rnd2───I──────Rnd2───,\n",
       " 16: ────Rnd1─────────────────\n",
       "        │\n",
       "32: ────Rnd2───Rnd1──────────\n",
       "               │\n",
       "48: ────Rnd1───Rnd2───Rnd1───\n",
       "        │             │\n",
       "64: ────Rnd2───Rnd1───Rnd2───\n",
       "               │\n",
       "80: ────Rnd1───Rnd2───Rnd1───\n",
       "        │             │\n",
       "96: ────Rnd2───Rnd1───Rnd2───\n",
       "               │\n",
       "112: ───Rnd1───Rnd2───Rnd1───\n",
       "        │             │\n",
       "128: ───Rnd2───I──────Rnd2───,\n",
       " 56: ────Rnd1─────────────────\n",
       "        │\n",
       "64: ────Rnd2───Rnd1──────────\n",
       "               │\n",
       "72: ────Rnd1───Rnd2───Rnd1───\n",
       "        │             │\n",
       "80: ────Rnd2───Rnd1───Rnd2───\n",
       "               │\n",
       "88: ────Rnd1───Rnd2───Rnd1───\n",
       "        │             │\n",
       "96: ────Rnd2───Rnd1───Rnd2───\n",
       "               │\n",
       "104: ───Rnd1───Rnd2───Rnd1───\n",
       "        │             │\n",
       "112: ───Rnd2───Rnd1───Rnd2───\n",
       "               │\n",
       "120: ───Rnd1───Rnd2───Rnd1───\n",
       "        │             │\n",
       "128: ───Rnd2───I──────Rnd2───,\n",
       " 80: ────Rnd1─────────────────\n",
       "        │\n",
       "84: ────Rnd2───Rnd1──────────\n",
       "               │\n",
       "88: ────Rnd1───Rnd2───Rnd1───\n",
       "        │             │\n",
       "92: ────Rnd2───Rnd1───Rnd2───\n",
       "               │\n",
       "96: ────Rnd1───Rnd2───Rnd1───\n",
       "        │             │\n",
       "100: ───Rnd2───Rnd1───Rnd2───\n",
       "               │\n",
       "104: ───Rnd1───Rnd2───Rnd1───\n",
       "        │             │\n",
       "108: ───Rnd2───Rnd1───Rnd2───\n",
       "               │\n",
       "112: ───Rnd1───Rnd2───Rnd1───\n",
       "        │             │\n",
       "116: ───Rnd2───Rnd1───Rnd2───\n",
       "               │\n",
       "120: ───Rnd1───Rnd2──────────\n",
       "        │\n",
       "124: ───Rnd2─────────────────,\n",
       " 92: ────Rnd1─────────────────\n",
       "        │\n",
       "94: ────Rnd2───Rnd1──────────\n",
       "               │\n",
       "96: ────Rnd1───Rnd2───Rnd1───\n",
       "        │             │\n",
       "98: ────Rnd2───Rnd1───Rnd2───\n",
       "               │\n",
       "100: ───Rnd1───Rnd2───Rnd1───\n",
       "        │             │\n",
       "102: ───Rnd2───Rnd1───Rnd2───\n",
       "               │\n",
       "104: ───Rnd1───Rnd2───Rnd1───\n",
       "        │             │\n",
       "106: ───Rnd2───Rnd1───Rnd2───\n",
       "               │\n",
       "108: ───Rnd1───Rnd2──────────\n",
       "        │\n",
       "110: ───Rnd2─────────────────,\n",
       " 98: ────Rnd1─────────────────\n",
       "        │\n",
       "99: ────Rnd2───Rnd1──────────\n",
       "               │\n",
       "100: ───Rnd1───Rnd2───Rnd1───\n",
       "        │             │\n",
       "101: ───Rnd2───Rnd1───Rnd2───\n",
       "               │\n",
       "102: ───Rnd1───Rnd2───Rnd1───\n",
       "        │             │\n",
       "103: ───Rnd2───Rnd1───Rnd2───\n",
       "               │\n",
       "104: ───Rnd1───Rnd2───Rnd1───\n",
       "        │             │\n",
       "105: ───Rnd2───Rnd1───Rnd2───\n",
       "               │\n",
       "106: ───Rnd1───Rnd2──────────\n",
       "        │\n",
       "107: ───Rnd2─────────────────]"
      ]
     },
     "execution_count": 22,
     "metadata": {},
     "output_type": "execute_result"
    }
   ],
   "source": [
    "regular"
   ]
  },
  {
   "cell_type": "code",
   "execution_count": 23,
   "metadata": {
    "ExecuteTime": {
     "end_time": "2020-01-28T08:03:43.423392Z",
     "start_time": "2020-01-28T08:03:43.409475Z"
    }
   },
   "outputs": [
    {
     "data": {
      "text/html": [
       "<pre style=\"overflow: auto; white-space: pre;\">                   ┌────────┐\n",
       "98: ────Rnd1────────────────────────\n",
       "        │\n",
       "99: ────Rnd2────────Rnd1────────×───\n",
       "                    │           │\n",
       "100: ───Rnd1────────Rnd2────────×───\n",
       "        │\n",
       "101: ───Rnd2────────Rnd1────────×───\n",
       "                    │           │\n",
       "102: ───Rnd1────────Rnd2────────×───\n",
       "        │\n",
       "103: ───Rnd2────────Rnd1────────────\n",
       "                    │\n",
       "104: ───Rnd1───×────┼───Rnd1────────\n",
       "        │      │    │   │\n",
       "105: ───Rnd2───×────Rnd2┼───────────\n",
       "                        │\n",
       "106: ───Rnd1────────────Rnd2────────\n",
       "        │\n",
       "107: ───Rnd2────────────────────────\n",
       "                   └────────┘</pre>"
      ],
      "text/plain": [
       "                   ┌────────┐\n",
       "98: ────Rnd1────────────────────────\n",
       "        │\n",
       "99: ────Rnd2────────Rnd1────────×───\n",
       "                    │           │\n",
       "100: ───Rnd1────────Rnd2────────×───\n",
       "        │\n",
       "101: ───Rnd2────────Rnd1────────×───\n",
       "                    │           │\n",
       "102: ───Rnd1────────Rnd2────────×───\n",
       "        │\n",
       "103: ───Rnd2────────Rnd1────────────\n",
       "                    │\n",
       "104: ───Rnd1───×────┼───Rnd1────────\n",
       "        │      │    │   │\n",
       "105: ───Rnd2───×────Rnd2┼───────────\n",
       "                        │\n",
       "106: ───Rnd1────────────Rnd2────────\n",
       "        │\n",
       "107: ───Rnd2────────────────────────\n",
       "                   └────────┘"
      ]
     },
     "execution_count": 23,
     "metadata": {},
     "output_type": "execute_result"
    }
   ],
   "source": [
    "fixed[-1][0:4]"
   ]
  },
  {
   "cell_type": "code",
   "execution_count": 24,
   "metadata": {
    "ExecuteTime": {
     "end_time": "2020-01-28T08:03:43.831373Z",
     "start_time": "2020-01-28T08:03:43.821268Z"
    }
   },
   "outputs": [],
   "source": [
    "resultRegular = simulator.simulate(cirq.Circuit.from_ops(regular[-1]))\n",
    "resultFixed = simulator.simulate(cirq.Circuit.from_ops(fixed[-1]))\n"
   ]
  },
  {
   "cell_type": "code",
   "execution_count": 25,
   "metadata": {
    "ExecuteTime": {
     "end_time": "2020-01-28T08:03:44.339532Z",
     "start_time": "2020-01-28T08:03:44.333610Z"
    }
   },
   "outputs": [
    {
     "data": {
      "text/plain": [
       "1.4901161e-08"
      ]
     },
     "execution_count": 25,
     "metadata": {},
     "output_type": "execute_result"
    }
   ],
   "source": [
    "np.max(abs(resultRegular.density_matrix_of(qubits) - resultFixed.density_matrix_of(new_goal)))"
   ]
  },
  {
   "cell_type": "code",
   "execution_count": 26,
   "metadata": {
    "ExecuteTime": {
     "end_time": "2020-01-28T08:03:45.411369Z",
     "start_time": "2020-01-28T08:03:45.409464Z"
    }
   },
   "outputs": [],
   "source": [
    "# So this is actually a valid transformation"
   ]
  },
  {
   "cell_type": "code",
   "execution_count": 27,
   "metadata": {
    "ExecuteTime": {
     "end_time": "2020-01-28T08:03:46.483709Z",
     "start_time": "2020-01-28T08:03:46.442106Z"
    }
   },
   "outputs": [
    {
     "data": {
      "text/html": [
       "<pre style=\"overflow: auto; white-space: pre;\">                   ┌────────┐       ┌────────┐\n",
       "98: ────Rnd1─────────────────────────────────────────\n",
       "        │\n",
       "99: ────Rnd2────────Rnd1────────×────Rnd1────────×───\n",
       "                    │           │    │           │\n",
       "100: ───Rnd1────────Rnd2────────×────┼───────────┼───\n",
       "        │                            │           │\n",
       "101: ───Rnd2────────Rnd1────────×────┼───Rnd1────┼───\n",
       "                    │           │    │   │       │\n",
       "102: ───Rnd1────────Rnd2────────×────Rnd2┼───────×───\n",
       "        │                                │\n",
       "103: ───Rnd2────────Rnd1─────────────────Rnd2────────\n",
       "                    │\n",
       "104: ───Rnd1───×────┼───Rnd1─────────Rnd2────────────\n",
       "        │      │    │   │            │\n",
       "105: ───Rnd2───×────Rnd2┼────────────Rnd1────────────\n",
       "                        │\n",
       "106: ───Rnd1────────────Rnd2─────────────────────────\n",
       "        │\n",
       "107: ───Rnd2─────────────────────────────────────────\n",
       "                   └────────┘       └────────┘</pre>"
      ],
      "text/plain": [
       "                   ┌────────┐       ┌────────┐\n",
       "98: ────Rnd1─────────────────────────────────────────\n",
       "        │\n",
       "99: ────Rnd2────────Rnd1────────×────Rnd1────────×───\n",
       "                    │           │    │           │\n",
       "100: ───Rnd1────────Rnd2────────×────┼───────────┼───\n",
       "        │                            │           │\n",
       "101: ───Rnd2────────Rnd1────────×────┼───Rnd1────┼───\n",
       "                    │           │    │   │       │\n",
       "102: ───Rnd1────────Rnd2────────×────Rnd2┼───────×───\n",
       "        │                                │\n",
       "103: ───Rnd2────────Rnd1─────────────────Rnd2────────\n",
       "                    │\n",
       "104: ───Rnd1───×────┼───Rnd1─────────Rnd2────────────\n",
       "        │      │    │   │            │\n",
       "105: ───Rnd2───×────Rnd2┼────────────Rnd1────────────\n",
       "                        │\n",
       "106: ───Rnd1────────────Rnd2─────────────────────────\n",
       "        │\n",
       "107: ───Rnd2─────────────────────────────────────────\n",
       "                   └────────┘       └────────┘"
      ]
     },
     "execution_count": 27,
     "metadata": {},
     "output_type": "execute_result"
    }
   ],
   "source": [
    "random_circuit(q([101,102,103,104]), 3, 128)[0][-1]"
   ]
  },
  {
   "cell_type": "markdown",
   "metadata": {},
   "source": [
    "# Using the circuit"
   ]
  },
  {
   "cell_type": "code",
   "execution_count": 28,
   "metadata": {
    "ExecuteTime": {
     "end_time": "2020-01-28T08:03:47.682468Z",
     "start_time": "2020-01-28T08:03:47.679597Z"
    }
   },
   "outputs": [],
   "source": [
    "def fidelity_against_0(rho):\n",
    "    return qt.metrics.fidelity(qt.Qobj(rho),qt.basis(2,0))"
   ]
  },
  {
   "cell_type": "code",
   "execution_count": null,
   "metadata": {},
   "outputs": [],
   "source": []
  },
  {
   "cell_type": "code",
   "execution_count": 29,
   "metadata": {
    "ExecuteTime": {
     "end_time": "2020-01-28T08:03:48.387376Z",
     "start_time": "2020-01-28T08:03:48.367673Z"
    },
    "scrolled": false
   },
   "outputs": [
    {
     "data": {
      "text/plain": [
       "[cirq.LineQubit(1), cirq.LineQubit(3), cirq.LineQubit(5)]"
      ]
     },
     "execution_count": 29,
     "metadata": {},
     "output_type": "execute_result"
    }
   ],
   "source": [
    "cs, new_goal = random_circuit(q([1,2,3]), 3, 128)\n",
    "first_part = cirq.Circuit.from_ops(cs[:-1])\n",
    "new_goal"
   ]
  },
  {
   "cell_type": "code",
   "execution_count": 30,
   "metadata": {
    "ExecuteTime": {
     "end_time": "2020-01-28T08:03:48.749965Z",
     "start_time": "2020-01-28T08:03:48.738698Z"
    }
   },
   "outputs": [
    {
     "data": {
      "text/html": [
       "<pre style=\"overflow: auto; white-space: pre;\">                        ┌────────┐\n",
       "1: ───Rnd1───I───────────Rnd1────────────\n",
       "      │                  │\n",
       "2: ───Rnd2───Rnd1───×────┼───Rnd1────×───\n",
       "             │      │    │   │       │\n",
       "3: ───Rnd1───Rnd2───×────Rnd2┼───────┼───\n",
       "      │                      │       │\n",
       "4: ───Rnd2───Rnd1───×────────┼───────┼───\n",
       "             │      │        │       │\n",
       "5: ───Rnd1───Rnd2───×────────Rnd2────×───\n",
       "      │\n",
       "6: ───Rnd2───────────────────────────────\n",
       "                        └────────┘</pre>"
      ],
      "text/plain": [
       "                        ┌────────┐\n",
       "1: ───Rnd1───I───────────Rnd1────────────\n",
       "      │                  │\n",
       "2: ───Rnd2───Rnd1───×────┼───Rnd1────×───\n",
       "             │      │    │   │       │\n",
       "3: ───Rnd1───Rnd2───×────Rnd2┼───────┼───\n",
       "      │                      │       │\n",
       "4: ───Rnd2───Rnd1───×────────┼───────┼───\n",
       "             │      │        │       │\n",
       "5: ───Rnd1───Rnd2───×────────Rnd2────×───\n",
       "      │\n",
       "6: ───Rnd2───────────────────────────────\n",
       "                        └────────┘"
      ]
     },
     "execution_count": 30,
     "metadata": {},
     "output_type": "execute_result"
    }
   ],
   "source": [
    "cs[-1]"
   ]
  },
  {
   "cell_type": "code",
   "execution_count": null,
   "metadata": {},
   "outputs": [],
   "source": []
  },
  {
   "cell_type": "code",
   "execution_count": null,
   "metadata": {},
   "outputs": [],
   "source": []
  },
  {
   "cell_type": "code",
   "execution_count": 31,
   "metadata": {
    "ExecuteTime": {
     "end_time": "2020-01-28T08:03:50.492695Z",
     "start_time": "2020-01-28T08:03:50.490711Z"
    }
   },
   "outputs": [],
   "source": [
    "# (random_circuit(q([101,102,103]), 3, 128))"
   ]
  },
  {
   "cell_type": "code",
   "execution_count": 32,
   "metadata": {
    "ExecuteTime": {
     "end_time": "2020-01-28T08:03:50.850303Z",
     "start_time": "2020-01-28T08:03:50.841764Z"
    },
    "scrolled": true
   },
   "outputs": [],
   "source": [
    "full_circuit = first_part + cs[-1] + cirq.inverse(first_part)"
   ]
  },
  {
   "cell_type": "code",
   "execution_count": 33,
   "metadata": {
    "ExecuteTime": {
     "end_time": "2020-01-28T08:03:51.149252Z",
     "start_time": "2020-01-28T08:03:51.123853Z"
    }
   },
   "outputs": [
    {
     "name": "stdout",
     "output_type": "stream",
     "text": [
      "\n",
      "128: ───I───I───I───\n",
      "\n",
      "\n",
      "64: ────Rnd1───I───Rnd1───\n",
      "        │          │\n",
      "128: ───Rnd2───I───Rnd2───\n",
      "\n",
      "\n",
      "32: ────Rnd1───I──────Rnd1───\n",
      "        │             │\n",
      "64: ────Rnd2───Rnd1───Rnd2───\n",
      "               │\n",
      "96: ────Rnd1───Rnd2───Rnd1───\n",
      "        │             │\n",
      "128: ───Rnd2───I──────Rnd2───\n",
      "\n",
      "\n",
      "                         ┌────────┐\n",
      "16: ───Rnd1───I───────────Rnd1────────────────────\n",
      "       │                  │\n",
      "32: ───Rnd2───Rnd1───×────┼───Rnd1────×───×───────\n",
      "              │      │    │   │       │   │\n",
      "48: ───Rnd1───Rnd2───×────Rnd2┼───────┼───×───×───\n",
      "       │                      │       │       │\n",
      "64: ───Rnd2───Rnd1───×────────┼───────┼───────┼───\n",
      "              │      │        │       │       │\n",
      "80: ───Rnd1───Rnd2───×────────Rnd2────×───────×───\n",
      "       │\n",
      "96: ───Rnd2───────────────────────────────────────\n",
      "                         └────────┘\n",
      "\n",
      "\n",
      "                         ┌────────┐\n",
      "8: ────Rnd1───I───────────Rnd1────────────────────\n",
      "       │                  │\n",
      "16: ───Rnd2───Rnd1───×────┼───Rnd1────×───×───────\n",
      "              │      │    │   │       │   │\n",
      "24: ───Rnd1───Rnd2───×────Rnd2┼───────┼───×───×───\n",
      "       │                      │       │       │\n",
      "32: ───Rnd2───Rnd1───×────────┼───────┼───────┼───\n",
      "              │      │        │       │       │\n",
      "40: ───Rnd1───Rnd2───×────────Rnd2────×───────×───\n",
      "       │\n",
      "48: ───Rnd2───────────────────────────────────────\n",
      "                         └────────┘\n",
      "\n",
      "\n",
      "                         ┌────────┐\n",
      "4: ────Rnd1───I───────────Rnd1────────────────────\n",
      "       │                  │\n",
      "8: ────Rnd2───Rnd1───×────┼───Rnd1────×───×───────\n",
      "              │      │    │   │       │   │\n",
      "12: ───Rnd1───Rnd2───×────Rnd2┼───────┼───×───×───\n",
      "       │                      │       │       │\n",
      "16: ───Rnd2───Rnd1───×────────┼───────┼───────┼───\n",
      "              │      │        │       │       │\n",
      "20: ───Rnd1───Rnd2───×────────Rnd2────×───────×───\n",
      "       │\n",
      "24: ───Rnd2───────────────────────────────────────\n",
      "                         └────────┘\n",
      "\n",
      "\n",
      "                         ┌────────┐\n",
      "2: ────Rnd1───I───────────Rnd1────────────────────\n",
      "       │                  │\n",
      "4: ────Rnd2───Rnd1───×────┼───Rnd1────×───×───────\n",
      "              │      │    │   │       │   │\n",
      "6: ────Rnd1───Rnd2───×────Rnd2┼───────┼───×───×───\n",
      "       │                      │       │       │\n",
      "8: ────Rnd2───Rnd1───×────────┼───────┼───────┼───\n",
      "              │      │        │       │       │\n",
      "10: ───Rnd1───Rnd2───×────────Rnd2────×───────×───\n",
      "       │\n",
      "12: ───Rnd2───────────────────────────────────────\n",
      "                         └────────┘\n",
      "\n",
      "\n",
      "                        ┌────────┐\n",
      "1: ───Rnd1───I───────────Rnd1────────────\n",
      "      │                  │\n",
      "2: ───Rnd2───Rnd1───×────┼───Rnd1────×───\n",
      "             │      │    │   │       │\n",
      "3: ───Rnd1───Rnd2───×────Rnd2┼───────┼───\n",
      "      │                      │       │\n",
      "4: ───Rnd2───Rnd1───×────────┼───────┼───\n",
      "             │      │        │       │\n",
      "5: ───Rnd1───Rnd2───×────────Rnd2────×───\n",
      "      │\n",
      "6: ───Rnd2───────────────────────────────\n",
      "                        └────────┘\n",
      "\n"
     ]
    }
   ],
   "source": [
    "for circuit in cs:\n",
    "    print()\n",
    "    print(circuit)\n",
    "    print()"
   ]
  },
  {
   "cell_type": "code",
   "execution_count": null,
   "metadata": {},
   "outputs": [],
   "source": []
  },
  {
   "cell_type": "code",
   "execution_count": 34,
   "metadata": {
    "ExecuteTime": {
     "end_time": "2020-01-28T08:03:51.835886Z",
     "start_time": "2020-01-28T08:03:51.832371Z"
    }
   },
   "outputs": [
    {
     "data": {
      "text/plain": [
       "19"
      ]
     },
     "execution_count": 34,
     "metadata": {},
     "output_type": "execute_result"
    }
   ],
   "source": [
    "len(full_circuit.all_qubits())"
   ]
  },
  {
   "cell_type": "code",
   "execution_count": 35,
   "metadata": {
    "ExecuteTime": {
     "end_time": "2020-01-28T08:03:53.974390Z",
     "start_time": "2020-01-28T08:03:52.465444Z"
    }
   },
   "outputs": [],
   "source": [
    "result = simulator.simulate(full_circuit) "
   ]
  },
  {
   "cell_type": "code",
   "execution_count": 36,
   "metadata": {
    "ExecuteTime": {
     "end_time": "2020-01-28T08:03:54.148564Z",
     "start_time": "2020-01-28T08:03:53.975584Z"
    }
   },
   "outputs": [],
   "source": [
    "fidelity = {}\n",
    "for qubit in result.qubit_map:\n",
    "    rho = result.density_matrix_of([qubit])\n",
    "    fidelity[qubit] = fidelity_against_0(rho)"
   ]
  },
  {
   "cell_type": "code",
   "execution_count": 37,
   "metadata": {
    "ExecuteTime": {
     "end_time": "2020-01-28T08:03:54.154936Z",
     "start_time": "2020-01-28T08:03:54.150520Z"
    }
   },
   "outputs": [
    {
     "data": {
      "text/plain": [
       "{cirq.LineQubit(1): 0.5755872443591745,\n",
       " cirq.LineQubit(2): 0.7470354458520118,\n",
       " cirq.LineQubit(3): 0.705911455623862,\n",
       " cirq.LineQubit(4): 0.7324031573129098,\n",
       " cirq.LineQubit(5): 0.6579158167222541,\n",
       " cirq.LineQubit(6): 0.7441719829530333,\n",
       " cirq.LineQubit(8): 0.7491170533724839,\n",
       " cirq.LineQubit(10): 0.8126266454149835,\n",
       " cirq.LineQubit(12): 0.8225330633689342,\n",
       " cirq.LineQubit(16): 0.7754822107607565,\n",
       " cirq.LineQubit(20): 0.8775947449552888,\n",
       " cirq.LineQubit(24): 0.8223854756845557,\n",
       " cirq.LineQubit(32): 0.8086938105053282,\n",
       " cirq.LineQubit(40): 0.9811854991244873,\n",
       " cirq.LineQubit(48): 0.8543303766994488,\n",
       " cirq.LineQubit(64): 0.8162476234927202,\n",
       " cirq.LineQubit(80): 0.9599260418934114,\n",
       " cirq.LineQubit(96): 0.8898795839886352,\n",
       " cirq.LineQubit(128): 0.8050933481079279}"
      ]
     },
     "execution_count": 37,
     "metadata": {},
     "output_type": "execute_result"
    }
   ],
   "source": [
    "fidelity"
   ]
  },
  {
   "cell_type": "code",
   "execution_count": 38,
   "metadata": {
    "ExecuteTime": {
     "end_time": "2020-01-28T08:03:54.159361Z",
     "start_time": "2020-01-28T08:03:54.156388Z"
    }
   },
   "outputs": [
    {
     "data": {
      "text/plain": [
       "[cirq.LineQubit(1), cirq.LineQubit(3), cirq.LineQubit(5)]"
      ]
     },
     "execution_count": 38,
     "metadata": {},
     "output_type": "execute_result"
    }
   ],
   "source": [
    "new_goal"
   ]
  },
  {
   "cell_type": "markdown",
   "metadata": {},
   "source": [
    "## Several"
   ]
  },
  {
   "cell_type": "code",
   "execution_count": null,
   "metadata": {},
   "outputs": [],
   "source": []
  },
  {
   "cell_type": "code",
   "execution_count": null,
   "metadata": {},
   "outputs": [],
   "source": []
  },
  {
   "cell_type": "code",
   "execution_count": null,
   "metadata": {},
   "outputs": [],
   "source": []
  },
  {
   "cell_type": "code",
   "execution_count": 39,
   "metadata": {
    "ExecuteTime": {
     "end_time": "2020-01-28T08:03:56.199445Z",
     "start_time": "2020-01-28T08:03:56.196223Z"
    }
   },
   "outputs": [
    {
     "data": {
      "text/plain": [
       "[cirq.LineQubit(1), cirq.LineQubit(3), cirq.LineQubit(5)]"
      ]
     },
     "execution_count": 39,
     "metadata": {},
     "output_type": "execute_result"
    }
   ],
   "source": [
    "new_goal"
   ]
  },
  {
   "cell_type": "code",
   "execution_count": 40,
   "metadata": {
    "ExecuteTime": {
     "end_time": "2020-01-28T08:03:56.357269Z",
     "start_time": "2020-01-28T08:03:56.353789Z"
    }
   },
   "outputs": [],
   "source": [
    "tot_tries = 1000\n",
    "support = q([1,2,3])\n",
    "D = 2\n",
    "N = 128"
   ]
  },
  {
   "cell_type": "code",
   "execution_count": 41,
   "metadata": {
    "ExecuteTime": {
     "end_time": "2020-01-28T08:03:56.767429Z",
     "start_time": "2020-01-28T08:03:56.714972Z"
    }
   },
   "outputs": [
    {
     "data": {
      "text/html": [
       "<pre style=\"overflow: auto; white-space: pre;\">                                                                                                                                                    ┌────────┐\n",
       "1: ──────────────────────────────────────────────────────────────────────────────────────────────────────────────────────────────────────I───────────Rnd1────────────\n",
       "                                                                                                                                                     │\n",
       "2: ────────────────────────────────────────────────────────────────────────────────────────────────────────────────I──────────Rnd1───────Rnd1───×────┼───Rnd1────×───\n",
       "                                                                                                                              │          │      │    │   │       │\n",
       "3: ───────────────────────────────────────────────────────────────────────────────────────────────────────────────────────────┼──────────Rnd2───×────Rnd2┼───────┼───\n",
       "                                                                                                                              │                          │       │\n",
       "4: ──────────────────────────────────────────────────────────────────────────────────────────I──────────Rnd1───────Rnd1───×───┼──────×───Rnd1───×────────┼───────┼───\n",
       "                                                                                                        │          │      │   │      │   │      │        │       │\n",
       "5: ─────────────────────────────────────────────────────────────────────────────────────────────────────┼──────────┼──────┼───┼──────┼───Rnd2───×────────Rnd2────×───\n",
       "                                                                                                        │          │      │   │      │\n",
       "6: ─────────────────────────────────────────────────────────────────────────────────────────────────────┼──────────Rnd2───×───Rnd2───×───────────────────────────────\n",
       "                                                                                                        │\n",
       "8: ────────────────────────────────────────────────────────────────────I──────────Rnd1───────Rnd1───×───┼──────×─────────────────────────────────────────────────────\n",
       "                                                                                  │          │      │   │      │\n",
       "12: ──────────────────────────────────────────────────────────────────────────────┼──────────Rnd2───×───Rnd2───×─────────────────────────────────────────────────────\n",
       "                                                                                  │\n",
       "16: ─────────────────────────────────────────────I──────────Rnd1───────Rnd1───×───┼──────×───────────────────────────────────────────────────────────────────────────\n",
       "                                                            │          │      │   │      │\n",
       "24: ────────────────────────────────────────────────────────┼──────────Rnd2───×───Rnd2───×───────────────────────────────────────────────────────────────────────────\n",
       "                                                            │\n",
       "32: ───────────────────────I──────────Rnd1───────Rnd1───×───┼──────×─────────────────────────────────────────────────────────────────────────────────────────────────\n",
       "                                      │          │      │   │      │\n",
       "48: ──────────────────────────────────┼──────────Rnd2───×───Rnd2───×─────────────────────────────────────────────────────────────────────────────────────────────────\n",
       "                                      │\n",
       "64: ────────────I───Rnd1───Rnd1───×───┼──────×───────────────────────────────────────────────────────────────────────────────────────────────────────────────────────\n",
       "                    │      │      │   │      │\n",
       "96: ────────────────┼──────Rnd2───×───Rnd2───×───────────────────────────────────────────────────────────────────────────────────────────────────────────────────────\n",
       "                    │\n",
       "128: ───I───I───I───Rnd2─────────────────────────────────────────────────────────────────────────────────────────────────────────────────────────────────────────────\n",
       "                                                                                                                                                    └────────┘</pre>"
      ],
      "text/plain": [
       "                                                                                                                                                    ┌────────┐\n",
       "1: ──────────────────────────────────────────────────────────────────────────────────────────────────────────────────────────────────────I───────────Rnd1────────────\n",
       "                                                                                                                                                     │\n",
       "2: ────────────────────────────────────────────────────────────────────────────────────────────────────────────────I──────────Rnd1───────Rnd1───×────┼───Rnd1────×───\n",
       "                                                                                                                              │          │      │    │   │       │\n",
       "3: ───────────────────────────────────────────────────────────────────────────────────────────────────────────────────────────┼──────────Rnd2───×────Rnd2┼───────┼───\n",
       "                                                                                                                              │                          │       │\n",
       "4: ──────────────────────────────────────────────────────────────────────────────────────────I──────────Rnd1───────Rnd1───×───┼──────×───Rnd1───×────────┼───────┼───\n",
       "                                                                                                        │          │      │   │      │   │      │        │       │\n",
       "5: ─────────────────────────────────────────────────────────────────────────────────────────────────────┼──────────┼──────┼───┼──────┼───Rnd2───×────────Rnd2────×───\n",
       "                                                                                                        │          │      │   │      │\n",
       "6: ─────────────────────────────────────────────────────────────────────────────────────────────────────┼──────────Rnd2───×───Rnd2───×───────────────────────────────\n",
       "                                                                                                        │\n",
       "8: ────────────────────────────────────────────────────────────────────I──────────Rnd1───────Rnd1───×───┼──────×─────────────────────────────────────────────────────\n",
       "                                                                                  │          │      │   │      │\n",
       "12: ──────────────────────────────────────────────────────────────────────────────┼──────────Rnd2───×───Rnd2───×─────────────────────────────────────────────────────\n",
       "                                                                                  │\n",
       "16: ─────────────────────────────────────────────I──────────Rnd1───────Rnd1───×───┼──────×───────────────────────────────────────────────────────────────────────────\n",
       "                                                            │          │      │   │      │\n",
       "24: ────────────────────────────────────────────────────────┼──────────Rnd2───×───Rnd2───×───────────────────────────────────────────────────────────────────────────\n",
       "                                                            │\n",
       "32: ───────────────────────I──────────Rnd1───────Rnd1───×───┼──────×─────────────────────────────────────────────────────────────────────────────────────────────────\n",
       "                                      │          │      │   │      │\n",
       "48: ──────────────────────────────────┼──────────Rnd2───×───Rnd2───×─────────────────────────────────────────────────────────────────────────────────────────────────\n",
       "                                      │\n",
       "64: ────────────I───Rnd1───Rnd1───×───┼──────×───────────────────────────────────────────────────────────────────────────────────────────────────────────────────────\n",
       "                    │      │      │   │      │\n",
       "96: ────────────────┼──────Rnd2───×───Rnd2───×───────────────────────────────────────────────────────────────────────────────────────────────────────────────────────\n",
       "                    │\n",
       "128: ───I───I───I───Rnd2─────────────────────────────────────────────────────────────────────────────────────────────────────────────────────────────────────────────\n",
       "                                                                                                                                                    └────────┘"
      ]
     },
     "execution_count": 41,
     "metadata": {},
     "output_type": "execute_result"
    }
   ],
   "source": [
    "cirq.Circuit().from_ops(random_circuit(support, D, N)[0])"
   ]
  },
  {
   "cell_type": "code",
   "execution_count": null,
   "metadata": {},
   "outputs": [],
   "source": []
  },
  {
   "cell_type": "code",
   "execution_count": 42,
   "metadata": {
    "ExecuteTime": {
     "end_time": "2020-01-28T08:03:57.379278Z",
     "start_time": "2020-01-28T08:03:57.259591Z"
    }
   },
   "outputs": [
    {
     "data": {
      "text/html": [
       "<pre style=\"overflow: auto; white-space: pre;\">                                                                                                                        ┌────────┐\n",
       "32: ───────────────────────I──────Rnd1───────────────────────────────────────────────────────────────────────────────────────────────────\n",
       "                                  │\n",
       "64: ────────────I───Rnd1───Rnd1───Rnd2───Rnd1────────────────────────────────────────────────────────────────────────────────────────────\n",
       "                    │      │             │\n",
       "80: ────────────────┼──────┼─────────────Rnd2───Rnd1───Rnd1──────────────────────────────────────────────────────────────────────────────\n",
       "                    │      │                    │      │\n",
       "88: ────────────────┼──────┼────────────────────┼──────Rnd2───Rnd1───────────────────────────────────────────────────────────────────────\n",
       "                    │      │                    │             │\n",
       "92: ────────────────┼──────┼────────────────────┼─────────────┼──────Rnd1────────────────────────────────────────────────────────────────\n",
       "                    │      │                    │             │      │\n",
       "96: ────────────────┼──────Rnd2───Rnd1───Rnd1───Rnd2───Rnd1───Rnd2───Rnd2───Rnd1─────────────────────────────────────────────────────────\n",
       "                    │             │      │             │                    │\n",
       "98: ────────────────┼─────────────┼──────┼─────────────┼────────────────────┼──────Rnd1───×───Rnd1───────×───────────────────────────────\n",
       "                    │             │      │             │                    │      │      │   │          │\n",
       "100: ───────────────┼─────────────┼──────┼─────────────┼─────────────Rnd1───Rnd2───Rnd2───×───┼──────────×───Rnd1────────────────────────\n",
       "                    │             │      │             │             │                        │              │\n",
       "101: ───────────────┼─────────────┼──────┼─────────────┼─────────────┼────────────────────────┼──────────────Rnd2────────Rnd1────────────\n",
       "                    │             │      │             │             │                        │                          │\n",
       "102: ───────────────┼─────────────┼──────┼─────────────┼─────────────┼─────────────Rnd1───────Rnd2───────────Rnd1───×────┼───Rnd1────×───\n",
       "                    │             │      │             │             │             │                         │      │    │   │       │\n",
       "103: ───────────────┼─────────────┼──────┼─────────────┼─────────────┼─────────────┼─────────────────────────Rnd2───×────Rnd2┼───────┼───\n",
       "                    │             │      │             │             │             │                                         │       │\n",
       "104: ───────────────┼─────────────┼──────┼─────────────Rnd2───Rnd1───Rnd2───Rnd1───Rnd2───────Rnd1───×───×───Rnd1───×────────┼───────┼───\n",
       "                    │             │      │                    │             │                 │      │   │   │      │        │       │\n",
       "105: ───────────────┼─────────────┼──────┼────────────────────┼─────────────┼─────────────────┼──────┼───┼───Rnd2───×────────Rnd2────×───\n",
       "                    │             │      │                    │             │                 │      │   │\n",
       "106: ───────────────┼─────────────┼──────┼────────────────────┼─────────────┼──────Rnd1───────Rnd2───×───×───────────────────────────────\n",
       "                    │             │      │                    │             │      │\n",
       "108: ───────────────┼─────────────┼──────┼────────────────────┼──────Rnd1───Rnd2───Rnd2──────────────────────────────────────────────────\n",
       "                    │             │      │                    │      │\n",
       "112: ───────────────┼─────────────┼──────Rnd2───Rnd1───Rnd1───Rnd2───Rnd2────────────────────────────────────────────────────────────────\n",
       "                    │             │             │      │\n",
       "120: ───────────────┼─────────────┼─────────────┼──────Rnd2──────────────────────────────────────────────────────────────────────────────\n",
       "                    │             │             │\n",
       "128: ───I───I───I───Rnd2───I──────Rnd2───I──────Rnd2─────────────────────────────────────────────────────────────────────────────────────\n",
       "                                                                                                                        └────────┘</pre>"
      ],
      "text/plain": [
       "                                                                                                                        ┌────────┐\n",
       "32: ───────────────────────I──────Rnd1───────────────────────────────────────────────────────────────────────────────────────────────────\n",
       "                                  │\n",
       "64: ────────────I───Rnd1───Rnd1───Rnd2───Rnd1────────────────────────────────────────────────────────────────────────────────────────────\n",
       "                    │      │             │\n",
       "80: ────────────────┼──────┼─────────────Rnd2───Rnd1───Rnd1──────────────────────────────────────────────────────────────────────────────\n",
       "                    │      │                    │      │\n",
       "88: ────────────────┼──────┼────────────────────┼──────Rnd2───Rnd1───────────────────────────────────────────────────────────────────────\n",
       "                    │      │                    │             │\n",
       "92: ────────────────┼──────┼────────────────────┼─────────────┼──────Rnd1────────────────────────────────────────────────────────────────\n",
       "                    │      │                    │             │      │\n",
       "96: ────────────────┼──────Rnd2───Rnd1───Rnd1───Rnd2───Rnd1───Rnd2───Rnd2───Rnd1─────────────────────────────────────────────────────────\n",
       "                    │             │      │             │                    │\n",
       "98: ────────────────┼─────────────┼──────┼─────────────┼────────────────────┼──────Rnd1───×───Rnd1───────×───────────────────────────────\n",
       "                    │             │      │             │                    │      │      │   │          │\n",
       "100: ───────────────┼─────────────┼──────┼─────────────┼─────────────Rnd1───Rnd2───Rnd2───×───┼──────────×───Rnd1────────────────────────\n",
       "                    │             │      │             │             │                        │              │\n",
       "101: ───────────────┼─────────────┼──────┼─────────────┼─────────────┼────────────────────────┼──────────────Rnd2────────Rnd1────────────\n",
       "                    │             │      │             │             │                        │                          │\n",
       "102: ───────────────┼─────────────┼──────┼─────────────┼─────────────┼─────────────Rnd1───────Rnd2───────────Rnd1───×────┼───Rnd1────×───\n",
       "                    │             │      │             │             │             │                         │      │    │   │       │\n",
       "103: ───────────────┼─────────────┼──────┼─────────────┼─────────────┼─────────────┼─────────────────────────Rnd2───×────Rnd2┼───────┼───\n",
       "                    │             │      │             │             │             │                                         │       │\n",
       "104: ───────────────┼─────────────┼──────┼─────────────Rnd2───Rnd1───Rnd2───Rnd1───Rnd2───────Rnd1───×───×───Rnd1───×────────┼───────┼───\n",
       "                    │             │      │                    │             │                 │      │   │   │      │        │       │\n",
       "105: ───────────────┼─────────────┼──────┼────────────────────┼─────────────┼─────────────────┼──────┼───┼───Rnd2───×────────Rnd2────×───\n",
       "                    │             │      │                    │             │                 │      │   │\n",
       "106: ───────────────┼─────────────┼──────┼────────────────────┼─────────────┼──────Rnd1───────Rnd2───×───×───────────────────────────────\n",
       "                    │             │      │                    │             │      │\n",
       "108: ───────────────┼─────────────┼──────┼────────────────────┼──────Rnd1───Rnd2───Rnd2──────────────────────────────────────────────────\n",
       "                    │             │      │                    │      │\n",
       "112: ───────────────┼─────────────┼──────Rnd2───Rnd1───Rnd1───Rnd2───Rnd2────────────────────────────────────────────────────────────────\n",
       "                    │             │             │      │\n",
       "120: ───────────────┼─────────────┼─────────────┼──────Rnd2──────────────────────────────────────────────────────────────────────────────\n",
       "                    │             │             │\n",
       "128: ───I───I───I───Rnd2───I──────Rnd2───I──────Rnd2─────────────────────────────────────────────────────────────────────────────────────\n",
       "                                                                                                                        └────────┘"
      ]
     },
     "execution_count": 42,
     "metadata": {},
     "output_type": "execute_result"
    }
   ],
   "source": [
    "cirq.Circuit().from_ops(random_circuit(q([101,102,103]), D, N)[0])"
   ]
  },
  {
   "cell_type": "code",
   "execution_count": 43,
   "metadata": {
    "ExecuteTime": {
     "end_time": "2020-01-28T08:03:57.953866Z",
     "start_time": "2020-01-28T08:03:57.950109Z"
    }
   },
   "outputs": [],
   "source": [
    "def graph_from_circuit(c):\n",
    "    G = nx.Graph()\n",
    "    for q in c.all_qubits():\n",
    "        G.add_node(q.x)\n",
    "        \n",
    "    for op in c.all_operations():\n",
    "        if len(op.qubits) == 2:\n",
    "            G.add_edge(op.qubits[0].x, op.qubits[1].x)\n",
    "    return G"
   ]
  },
  {
   "cell_type": "code",
   "execution_count": 44,
   "metadata": {
    "ExecuteTime": {
     "end_time": "2020-01-28T08:03:58.841367Z",
     "start_time": "2020-01-28T08:03:58.837128Z"
    }
   },
   "outputs": [],
   "source": [
    "def distances_to_goal(c, goal):\n",
    "    G = graph_from_circuit(c)\n",
    "    fw = nx.floyd_warshall(G)\n",
    "    qbs = {}\n",
    "    for q in c.all_qubits():\n",
    "        qbs[q] = fw[q.x][goal[0].x]\n",
    "        for q2 in goal[1:]:\n",
    "            qbs[q] = min(qbs[q], fw[q.x][q2.x])\n",
    "    return qbs"
   ]
  },
  {
   "cell_type": "code",
   "execution_count": 45,
   "metadata": {
    "ExecuteTime": {
     "end_time": "2020-01-28T08:03:59.373758Z",
     "start_time": "2020-01-28T08:03:59.364628Z"
    }
   },
   "outputs": [
    {
     "ename": "NameError",
     "evalue": "name 'c' is not defined",
     "output_type": "error",
     "traceback": [
      "\u001b[0;31m---------------------------------------------------------------------------\u001b[0m",
      "\u001b[0;31mNameError\u001b[0m                                 Traceback (most recent call last)",
      "\u001b[0;32m<ipython-input-45-e411ef6fa6d2>\u001b[0m in \u001b[0;36m<module>\u001b[0;34m\u001b[0m\n\u001b[0;32m----> 1\u001b[0;31m \u001b[0mdis\u001b[0m \u001b[0;34m=\u001b[0m \u001b[0mdistances_to_goal\u001b[0m\u001b[0;34m(\u001b[0m\u001b[0mc\u001b[0m\u001b[0;34m,\u001b[0m \u001b[0mq\u001b[0m\u001b[0;34m(\u001b[0m\u001b[0;34m[\u001b[0m\u001b[0;36m1\u001b[0m\u001b[0;34m,\u001b[0m\u001b[0;36m2\u001b[0m\u001b[0;34m,\u001b[0m\u001b[0;36m3\u001b[0m\u001b[0;34m]\u001b[0m\u001b[0;34m)\u001b[0m\u001b[0;34m)\u001b[0m \u001b[0;34m;\u001b[0m \u001b[0mdis\u001b[0m\u001b[0;34m\u001b[0m\u001b[0;34m\u001b[0m\u001b[0m\n\u001b[0m",
      "\u001b[0;31mNameError\u001b[0m: name 'c' is not defined"
     ]
    }
   ],
   "source": [
    "dis = distances_to_goal(c, q([1,2,3])) ; dis"
   ]
  },
  {
   "cell_type": "code",
   "execution_count": null,
   "metadata": {},
   "outputs": [],
   "source": []
  },
  {
   "cell_type": "code",
   "execution_count": null,
   "metadata": {
    "ExecuteTime": {
     "start_time": "2020-01-28T08:04:00.494Z"
    },
    "scrolled": true
   },
   "outputs": [
    {
     "name": "stderr",
     "output_type": "stream",
     "text": [
      "/anaconda3/lib/python3.7/site-packages/ipykernel_launcher.py:2: TqdmDeprecationWarning: This function will be removed in tqdm==5.0.0\n",
      "Please use `tqdm.notebook.tqdm` instead of `tqdm.tqdm_notebook`\n",
      "  \n"
     ]
    },
    {
     "data": {
      "application/vnd.jupyter.widget-view+json": {
       "model_id": "bc552d844f9a47a08cc9d256f6005618",
       "version_major": 2,
       "version_minor": 0
      },
      "text/plain": [
       "HBox(children=(FloatProgress(value=0.0, max=1000.0), HTML(value='')))"
      ]
     },
     "metadata": {},
     "output_type": "display_data"
    }
   ],
   "source": [
    "fidelities = {}\n",
    "for i in tqdm(range(tot_tries)):\n",
    "    cs, new_goal = random_circuit(support, D, N)\n",
    "    first_part = cirq.Circuit.from_ops(cs[:-1])\n",
    "    full_circuit = first_part + cs[-1] + cirq.inverse(first_part)\n",
    "    \n",
    "    result = simulator.simulate(full_circuit) \n",
    "    \n",
    "    for qubit in result.qubit_map:\n",
    "        rho = result.density_matrix_of([qubit])\n",
    "        if qubit not in fidelities:\n",
    "            fidelities[qubit] = []\n",
    "        fidelities[qubit].append(fidelity_against_0(rho))"
   ]
  },
  {
   "cell_type": "code",
   "execution_count": null,
   "metadata": {},
   "outputs": [],
   "source": []
  },
  {
   "cell_type": "code",
   "execution_count": 100,
   "metadata": {
    "ExecuteTime": {
     "end_time": "2019-11-15T06:53:04.954911Z",
     "start_time": "2019-11-15T06:53:04.952186Z"
    }
   },
   "outputs": [],
   "source": [
    "for qubit in fidelities:\n",
    "    fidelities[qubit] = np.array(fidelities[qubit])"
   ]
  },
  {
   "cell_type": "code",
   "execution_count": null,
   "metadata": {},
   "outputs": [],
   "source": []
  },
  {
   "cell_type": "code",
   "execution_count": 105,
   "metadata": {
    "ExecuteTime": {
     "end_time": "2019-11-15T06:54:02.960786Z",
     "start_time": "2019-11-15T06:53:59.934817Z"
    },
    "scrolled": false
   },
   "outputs": [
    {
     "name": "stdout",
     "output_type": "stream",
     "text": [
      "0\n"
     ]
    },
    {
     "data": {
      "image/png": "[encoded data removed]",
      "text/plain": [
       "<Figure size 432x288 with 1 Axes>"
      ]
     },
     "metadata": {
      "needs_background": "light"
     },
     "output_type": "display_data"
    },
    {
     "name": "stdout",
     "output_type": "stream",
     "text": [
      "0\n"
     ]
    },
    {
     "data": {
      "image/png": "[encoded data removed]",
      "text/plain": [
       "<Figure size 432x288 with 1 Axes>"
      ]
     },
     "metadata": {
      "needs_background": "light"
     },
     "output_type": "display_data"
    },
    {
     "name": "stdout",
     "output_type": "stream",
     "text": [
      "0\n"
     ]
    },
    {
     "data": {
      "image/png": "[encoded data removed]",
      "text/plain": [
       "<Figure size 432x288 with 1 Axes>"
      ]
     },
     "metadata": {
      "needs_background": "light"
     },
     "output_type": "display_data"
    },
    {
     "name": "stdout",
     "output_type": "stream",
     "text": [
      "2.0\n"
     ]
    },
    {
     "data": {
      "image/png": "[encoded data removed]",
      "text/plain": [
       "<Figure size 432x288 with 1 Axes>"
      ]
     },
     "metadata": {
      "needs_background": "light"
     },
     "output_type": "display_data"
    },
    {
     "name": "stdout",
     "output_type": "stream",
     "text": [
      "1.0\n"
     ]
    },
    {
     "data": {
      "image/png": "[encoded data removed]",
      "text/plain": [
       "<Figure size 432x288 with 1 Axes>"
      ]
     },
     "metadata": {
      "needs_background": "light"
     },
     "output_type": "display_data"
    },
    {
     "name": "stdout",
     "output_type": "stream",
     "text": [
      "1.0\n"
     ]
    },
    {
     "data": {
      "image/png": "[encoded data removed]",
      "text/plain": [
       "<Figure size 432x288 with 1 Axes>"
      ]
     },
     "metadata": {
      "needs_background": "light"
     },
     "output_type": "display_data"
    },
    {
     "name": "stdout",
     "output_type": "stream",
     "text": [
      "4.0\n"
     ]
    },
    {
     "data": {
      "image/png": "[encoded data removed]",
      "text/plain": [
       "<Figure size 432x288 with 1 Axes>"
      ]
     },
     "metadata": {
      "needs_background": "light"
     },
     "output_type": "display_data"
    },
    {
     "name": "stdout",
     "output_type": "stream",
     "text": [
      "3.0\n"
     ]
    },
    {
     "data": {
      "image/png": "[encoded data removed]",
      "text/plain": [
       "<Figure size 432x288 with 1 Axes>"
      ]
     },
     "metadata": {
      "needs_background": "light"
     },
     "output_type": "display_data"
    },
    {
     "name": "stdout",
     "output_type": "stream",
     "text": [
      "6.0\n"
     ]
    },
    {
     "data": {
      "image/png": "[encoded data removed]",
      "text/plain": [
       "<Figure size 432x288 with 1 Axes>"
      ]
     },
     "metadata": {
      "needs_background": "light"
     },
     "output_type": "display_data"
    },
    {
     "name": "stdout",
     "output_type": "stream",
     "text": [
      "5.0\n"
     ]
    },
    {
     "data": {
      "image/png": "[encoded data removed]",
      "text/plain": [
       "<Figure size 432x288 with 1 Axes>"
      ]
     },
     "metadata": {
      "needs_background": "light"
     },
     "output_type": "display_data"
    },
    {
     "name": "stdout",
     "output_type": "stream",
     "text": [
      "8.0\n"
     ]
    },
    {
     "data": {
      "image/png": "[encoded data removed]",
      "text/plain": [
       "<Figure size 432x288 with 1 Axes>"
      ]
     },
     "metadata": {
      "needs_background": "light"
     },
     "output_type": "display_data"
    },
    {
     "name": "stdout",
     "output_type": "stream",
     "text": [
      "7.0\n"
     ]
    },
    {
     "data": {
      "image/png": "[encoded data removed]",
      "text/plain": [
       "<Figure size 432x288 with 1 Axes>"
      ]
     },
     "metadata": {
      "needs_background": "light"
     },
     "output_type": "display_data"
    },
    {
     "name": "stdout",
     "output_type": "stream",
     "text": [
      "10.0\n"
     ]
    },
    {
     "data": {
      "image/png": "[encoded data removed]",
      "text/plain": [
       "<Figure size 432x288 with 1 Axes>"
      ]
     },
     "metadata": {
      "needs_background": "light"
     },
     "output_type": "display_data"
    },
    {
     "name": "stdout",
     "output_type": "stream",
     "text": [
      "9.0\n"
     ]
    },
    {
     "data": {
      "image/png": "[encoded data removed]",
      "text/plain": [
       "<Figure size 432x288 with 1 Axes>"
      ]
     },
     "metadata": {
      "needs_background": "light"
     },
     "output_type": "display_data"
    },
    {
     "name": "stdout",
     "output_type": "stream",
     "text": [
      "11.0\n"
     ]
    },
    {
     "data": {
      "image/png": "[encoded data removed]",
      "text/plain": [
       "<Figure size 432x288 with 1 Axes>"
      ]
     },
     "metadata": {
      "needs_background": "light"
     },
     "output_type": "display_data"
    }
   ],
   "source": [
    "for qubit in fidelities:\n",
    "    print(dis[qubit])\n",
    "    plt.hist(fidelities[qubit], range = (0, 1), bins = 100)\n",
    "    plt.title(str(qubit))\n",
    "    plt.show()"
   ]
  },
  {
   "cell_type": "code",
   "execution_count": 127,
   "metadata": {
    "ExecuteTime": {
     "end_time": "2019-11-15T06:58:37.307131Z",
     "start_time": "2019-11-15T06:58:37.303907Z"
    },
    "scrolled": false
   },
   "outputs": [],
   "source": [
    "xs = []\n",
    "ys = []\n",
    "for qubit in fidelities:\n",
    "    #print(dis[qubit])\n",
    "    #print(fidelities[qubit].mean())\n",
    "    xs.append(dis[qubit])\n",
    "    ys.append(fidelities[qubit].mean())"
   ]
  },
  {
   "cell_type": "code",
   "execution_count": 128,
   "metadata": {
    "ExecuteTime": {
     "end_time": "2019-11-15T06:58:46.030115Z",
     "start_time": "2019-11-15T06:58:46.027045Z"
    }
   },
   "outputs": [],
   "source": [
    "zs = list(zip(xs,ys))\n",
    "zs = sorted(zs)\n",
    "xs, ys = list(zip(*zs))\n",
    "xs = np.array(xs)\n",
    "ys = np.array(ys)"
   ]
  },
  {
   "cell_type": "code",
   "execution_count": 129,
   "metadata": {
    "ExecuteTime": {
     "end_time": "2019-11-15T06:58:50.098860Z",
     "start_time": "2019-11-15T06:58:49.978214Z"
    }
   },
   "outputs": [
    {
     "data": {
      "text/plain": [
       "[<matplotlib.lines.Line2D at 0x1c377fb400>]"
      ]
     },
     "execution_count": 129,
     "metadata": {},
     "output_type": "execute_result"
    },
    {
     "data": {
      "image/png": "[encoded data removed]",
      "text/plain": [
       "<Figure size 432x288 with 1 Axes>"
      ]
     },
     "metadata": {
      "needs_background": "light"
     },
     "output_type": "display_data"
    }
   ],
   "source": [
    "# distance from support vs fidelity\n",
    "plt.plot(xs, ys)"
   ]
  },
  {
   "cell_type": "code",
   "execution_count": 130,
   "metadata": {
    "ExecuteTime": {
     "end_time": "2019-11-15T06:59:04.049509Z",
     "start_time": "2019-11-15T06:59:03.919357Z"
    }
   },
   "outputs": [
    {
     "data": {
      "text/plain": [
       "[<matplotlib.lines.Line2D at 0x1c379e9d68>]"
      ]
     },
     "execution_count": 130,
     "metadata": {},
     "output_type": "execute_result"
    },
    {
     "data": {
      "image/png": "[encoded data removed]",
      "text/plain": [
       "<Figure size 432x288 with 1 Axes>"
      ]
     },
     "metadata": {
      "needs_background": "light"
     },
     "output_type": "display_data"
    }
   ],
   "source": [
    "# distance from support vs log(1-fidelity)\n",
    "plt.plot(xs, np.log(1-ys))"
   ]
  },
  {
   "cell_type": "code",
   "execution_count": null,
   "metadata": {},
   "outputs": [],
   "source": []
  },
  {
   "cell_type": "code",
   "execution_count": null,
   "metadata": {},
   "outputs": [],
   "source": []
  },
  {
   "cell_type": "markdown",
   "metadata": {},
   "source": [
    "# Do not delete"
   ]
  },
  {
   "cell_type": "code",
   "execution_count": 54,
   "metadata": {
    "ExecuteTime": {
     "end_time": "2019-10-30T09:34:50.436336Z",
     "start_time": "2019-10-30T09:34:46.738559Z"
    },
    "scrolled": false
   },
   "outputs": [
    {
     "data": {
      "image/png": "[encoded data removed]",
      "text/plain": [
       "<Figure size 432x288 with 1 Axes>"
      ]
     },
     "metadata": {
      "needs_background": "light"
     },
     "output_type": "display_data"
    },
    {
     "data": {
      "image/png": "[encoded data removed]",
      "text/plain": [
       "<Figure size 432x288 with 1 Axes>"
      ]
     },
     "metadata": {
      "needs_background": "light"
     },
     "output_type": "display_data"
    },
    {
     "data": {
      "image/png": "[encoded data removed]",
      "text/plain": [
       "<Figure size 432x288 with 1 Axes>"
      ]
     },
     "metadata": {
      "needs_background": "light"
     },
     "output_type": "display_data"
    },
    {
     "data": {
      "image/png": "[encoded data removed]",
      "text/plain": [
       "<Figure size 432x288 with 1 Axes>"
      ]
     },
     "metadata": {
      "needs_background": "light"
     },
     "output_type": "display_data"
    },
    {
     "data": {
      "image/png": "[encoded data removed]",
      "text/plain": [
       "<Figure size 432x288 with 1 Axes>"
      ]
     },
     "metadata": {
      "needs_background": "light"
     },
     "output_type": "display_data"
    },
    {
     "data": {
      "image/png": "[encoded data removed]",
      "text/plain": [
       "<Figure size 432x288 with 1 Axes>"
      ]
     },
     "metadata": {
      "needs_background": "light"
     },
     "output_type": "display_data"
    },
    {
     "data": {
      "image/png": "[encoded data removed]",
      "text/plain": [
       "<Figure size 432x288 with 1 Axes>"
      ]
     },
     "metadata": {
      "needs_background": "light"
     },
     "output_type": "display_data"
    },
    {
     "data": {
      "image/png": "[encoded data removed]",
      "text/plain": [
       "<Figure size 432x288 with 1 Axes>"
      ]
     },
     "metadata": {
      "needs_background": "light"
     },
     "output_type": "display_data"
    },
    {
     "data": {
      "image/png": "[encoded data removed]",
      "text/plain": [
       "<Figure size 432x288 with 1 Axes>"
      ]
     },
     "metadata": {
      "needs_background": "light"
     },
     "output_type": "display_data"
    },
    {
     "data": {
      "image/png": "[encoded data removed]",
      "text/plain": [
       "<Figure size 432x288 with 1 Axes>"
      ]
     },
     "metadata": {
      "needs_background": "light"
     },
     "output_type": "display_data"
    },
    {
     "data": {
      "image/png": "[encoded data removed]",
      "text/plain": [
       "<Figure size 432x288 with 1 Axes>"
      ]
     },
     "metadata": {
      "needs_background": "light"
     },
     "output_type": "display_data"
    },
    {
     "data": {
      "image/png": "[encoded data removed]",
      "text/plain": [
       "<Figure size 432x288 with 1 Axes>"
      ]
     },
     "metadata": {
      "needs_background": "light"
     },
     "output_type": "display_data"
    },
    {
     "data": {
      "image/png": "[encoded data removed]",
      "text/plain": [
       "<Figure size 432x288 with 1 Axes>"
      ]
     },
     "metadata": {
      "needs_background": "light"
     },
     "output_type": "display_data"
    },
    {
     "data": {
      "image/png": "[encoded data removed]",
      "text/plain": [
       "<Figure size 432x288 with 1 Axes>"
      ]
     },
     "metadata": {
      "needs_background": "light"
     },
     "output_type": "display_data"
    },
    {
     "data": {
      "image/png": "[encoded data removed]",
      "text/plain": [
       "<Figure size 432x288 with 1 Axes>"
      ]
     },
     "metadata": {
      "needs_background": "light"
     },
     "output_type": "display_data"
    },
    {
     "data": {
      "image/png": "[encoded data removed]",
      "text/plain": [
       "<Figure size 432x288 with 1 Axes>"
      ]
     },
     "metadata": {
      "needs_background": "light"
     },
     "output_type": "display_data"
    },
    {
     "data": {
      "image/png": "[encoded data removed]",
      "text/plain": [
       "<Figure size 432x288 with 1 Axes>"
      ]
     },
     "metadata": {
      "needs_background": "light"
     },
     "output_type": "display_data"
    },
    {
     "data": {
      "image/png": "[encoded data removed]",
      "text/plain": [
       "<Figure size 432x288 with 1 Axes>"
      ]
     },
     "metadata": {
      "needs_background": "light"
     },
     "output_type": "display_data"
    }
   ],
   "source": [
    "for qubit in fidelities:\n",
    "    plt.hist(fidelities[qubit], range = (0, 1), bins = 100)\n",
    "    plt.title(str(qubit))\n",
    "    plt.show()"
   ]
  },
  {
   "cell_type": "code",
   "execution_count": null,
   "metadata": {},
   "outputs": [],
   "source": []
  },
  {
   "cell_type": "code",
   "execution_count": null,
   "metadata": {},
   "outputs": [],
   "source": []
  },
  {
   "cell_type": "code",
   "execution_count": null,
   "metadata": {},
   "outputs": [],
   "source": []
  },
  {
   "cell_type": "code",
   "execution_count": 54,
   "metadata": {
    "ExecuteTime": {
     "end_time": "2019-10-30T09:34:50.436336Z",
     "start_time": "2019-10-30T09:34:46.738559Z"
    },
    "scrolled": false
   },
   "outputs": [
    {
     "data": {
      "image/png": "[encoded data removed]",
      "text/plain": [
       "<Figure size 432x288 with 1 Axes>"
      ]
     },
     "metadata": {
      "needs_background": "light"
     },
     "output_type": "display_data"
    },
    {
     "data": {
      "image/png": "[encoded data removed]",
      "text/plain": [
       "<Figure size 432x288 with 1 Axes>"
      ]
     },
     "metadata": {
      "needs_background": "light"
     },
     "output_type": "display_data"
    },
    {
     "data": {
      "image/png": "[encoded data removed]",
      "text/plain": [
       "<Figure size 432x288 with 1 Axes>"
      ]
     },
     "metadata": {
      "needs_background": "light"
     },
     "output_type": "display_data"
    },
    {
     "data": {
      "image/png": "[encoded data removed]",
      "text/plain": [
       "<Figure size 432x288 with 1 Axes>"
      ]
     },
     "metadata": {
      "needs_background": "light"
     },
     "output_type": "display_data"
    },
    {
     "data": {
      "image/png": "[encoded data removed]",
      "text/plain": [
       "<Figure size 432x288 with 1 Axes>"
      ]
     },
     "metadata": {
      "needs_background": "light"
     },
     "output_type": "display_data"
    },
    {
     "data": {
      "image/png": "[encoded data removed]",
      "text/plain": [
       "<Figure size 432x288 with 1 Axes>"
      ]
     },
     "metadata": {
      "needs_background": "light"
     },
     "output_type": "display_data"
    },
    {
     "data": {
      "image/png": "[encoded data removed]",
      "text/plain": [
       "<Figure size 432x288 with 1 Axes>"
      ]
     },
     "metadata": {
      "needs_background": "light"
     },
     "output_type": "display_data"
    },
    {
     "data": {
      "image/png": "[encoded data removed]",
      "text/plain": [
       "<Figure size 432x288 with 1 Axes>"
      ]
     },
     "metadata": {
      "needs_background": "light"
     },
     "output_type": "display_data"
    },
    {
     "data": {
      "image/png": "[encoded data removed]",
      "text/plain": [
       "<Figure size 432x288 with 1 Axes>"
      ]
     },
     "metadata": {
      "needs_background": "light"
     },
     "output_type": "display_data"
    },
    {
     "data": {
      "image/png": "[encoded data removed]",
      "text/plain": [
       "<Figure size 432x288 with 1 Axes>"
      ]
     },
     "metadata": {
      "needs_background": "light"
     },
     "output_type": "display_data"
    },
    {
     "data": {
      "image/png": "[encoded data removed]",
      "text/plain": [
       "<Figure size 432x288 with 1 Axes>"
      ]
     },
     "metadata": {
      "needs_background": "light"
     },
     "output_type": "display_data"
    },
    {
     "data": {
      "image/png": "[encoded data removed]",
      "text/plain": [
       "<Figure size 432x288 with 1 Axes>"
      ]
     },
     "metadata": {
      "needs_background": "light"
     },
     "output_type": "display_data"
    },
    {
     "data": {
      "image/png": "[encoded data removed]",
      "text/plain": [
       "<Figure size 432x288 with 1 Axes>"
      ]
     },
     "metadata": {
      "needs_background": "light"
     },
     "output_type": "display_data"
    },
    {
     "data": {
      "image/png": "[encoded data removed]",
      "text/plain": [
       "<Figure size 432x288 with 1 Axes>"
      ]
     },
     "metadata": {
      "needs_background": "light"
     },
     "output_type": "display_data"
    },
    {
     "data": {
      "image/png": "[encoded data removed]",
      "text/plain": [
       "<Figure size 432x288 with 1 Axes>"
      ]
     },
     "metadata": {
      "needs_background": "light"
     },
     "output_type": "display_data"
    },
    {
     "data": {
      "image/png": "[encoded data removed]",
      "text/plain": [
       "<Figure size 432x288 with 1 Axes>"
      ]
     },
     "metadata": {
      "needs_background": "light"
     },
     "output_type": "display_data"
    },
    {
     "data": {
      "image/png": "[encoded data removed]",
      "text/plain": [
       "<Figure size 432x288 with 1 Axes>"
      ]
     },
     "metadata": {
      "needs_background": "light"
     },
     "output_type": "display_data"
    },
    {
     "data": {
      "image/png": "[encoded data removed]",
      "text/plain": [
       "<Figure size 432x288 with 1 Axes>"
      ]
     },
     "metadata": {
      "needs_background": "light"
     },
     "output_type": "display_data"
    }
   ],
   "source": [
    "for qubit in fidelities:\n",
    "    plt.hist(fidelities[qubit], range = (0, 1), bins = 100)\n",
    "    plt.title(str(qubit))\n",
    "    plt.show()"
   ]
  },
  {
   "cell_type": "code",
   "execution_count": null,
   "metadata": {},
   "outputs": [],
   "source": []
  },
  {
   "cell_type": "code",
   "execution_count": null,
   "metadata": {},
   "outputs": [],
   "source": []
  },
  {
   "cell_type": "code",
   "execution_count": null,
   "metadata": {},
   "outputs": [],
   "source": []
  }
 ],
 "metadata": {
  "kernelspec": {
   "display_name": "Python 3",
   "language": "python",
   "name": "python3"
  },
  "language_info": {
   "codemirror_mode": {
    "name": "ipython",
    "version": 3
   },
   "file_extension": ".py",
   "mimetype": "text/x-python",
   "name": "python",
   "nbconvert_exporter": "python",
   "pygments_lexer": "ipython3",
   "version": "3.7.3"
  },
  "toc": {
   "base_numbering": 1,
   "nav_menu": {},
   "number_sections": true,
   "sideBar": true,
   "skip_h1_title": false,
   "title_cell": "Table of Contents",
   "title_sidebar": "Contents",
   "toc_cell": false,
   "toc_position": {},
   "toc_section_display": true,
   "toc_window_display": false
  }
 },
 "nbformat": 4,
 "nbformat_minor": 2
}
